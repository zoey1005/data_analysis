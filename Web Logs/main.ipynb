{
 "cells": [
  {
   "cell_type": "markdown",
   "source": [
    "##### In the US, public companies need to regularly file various statements and reports to the SEC's (Securities and Exchange Commission) EDGAR database. EDGAR data is publicly available online; furthermore, web requests to EDGAR from around the world are logged and published.\n",
    "##### We'll develop tools to extract information from the filings stored in EDGAR.\n",
    "\n",
    "##### 在美国，上市公司需要定期向 SEC（证券交易委员会）的 EDGAR 数据库提交各种报表和报告。EDGAR 数据可在线公开获取；此外，来自世界各地的对 EDGAR 的网络请求被记录和发布。\n",
    "##### 我们将开发工具以从存储在 EDGAR 中的文件中提取信息。\n",
    "\n",
    "##### 查看 EDGAR 站点上的每日 zip 和 CSV 文档列表：\n",
    "\n",
    "https://www.sec.gov/dera/data/edgar-log-file-data-set.html\n",
    "https://www.sec.gov/files/EDGAR_variables_FINAL.pdf"
   ],
   "metadata": {
    "collapsed": false,
    "pycharm": {
     "name": "#%% md\n"
    }
   }
  },
  {
   "cell_type": "code",
   "execution_count": 1,
   "outputs": [],
   "source": [
    "import requests\n",
    "import os\n",
    "import pandas as pd\n",
    "import zipfile\n",
    "from collections import Counter\n",
    "import csv\n",
    "import pandas as pd\n",
    "from zipfile import ZipFile, ZIP_DEFLATED\n",
    "from io import TextIOWrapper\n",
    "import re\n",
    "from collections import defaultdict"
   ],
   "metadata": {
    "collapsed": false,
    "pycharm": {
     "name": "#%%\n"
    }
   }
  },
  {
   "cell_type": "code",
   "execution_count": 3,
   "id": "fd258402-8674-4c07-94ae-ab016aa8337f",
   "metadata": {
    "pycharm": {
     "name": "#%%\n"
    }
   },
   "outputs": [],
   "source": [
    "with zipfile.ZipFile('server_log.zip') as zf:\n",
    "    with zf.open(\"rows.csv\") as f:\n",
    "        df_1 = pd.read_csv(f)"
   ]
  },
  {
   "cell_type": "markdown",
   "source": [
    "##### How many filings have been accessed by the top ten IPs?\n",
    "##### 排名前十的IP访问了多少申请？"
   ],
   "metadata": {
    "collapsed": false,
    "pycharm": {
     "name": "#%% md\n"
    }
   }
  },
  {
   "cell_type": "code",
   "execution_count": 4,
   "id": "57959355-60fa-4d1e-afdf-3afdd7624949",
   "metadata": {
    "pycharm": {
     "name": "#%%\n"
    }
   },
   "outputs": [
    {
     "data": {
      "text/plain": "{'54.152.17.ccg': 12562,\n '183.195.251.hah': 6524,\n '52.45.218.ihf': 5562,\n '68.180.231.abf': 5493,\n '204.212.175.bch': 4708,\n '103.238.106.gif': 4428,\n '208.77.215.jeh': 3903,\n '208.77.214.jeh': 3806,\n '217.174.255.dgd': 3551,\n '82.13.163.caf': 3527}"
     },
     "execution_count": 4,
     "metadata": {},
     "output_type": "execute_result"
    }
   ],
   "source": [
    "dict(Counter(list(df_1['ip'])).most_common()[0:10])"
   ]
  },
  {
   "cell_type": "markdown",
   "source": [
    "##### 错误访问请求的比率"
   ],
   "metadata": {
    "collapsed": false,
    "pycharm": {
     "name": "#%% md\n"
    }
   }
  },
  {
   "cell_type": "code",
   "execution_count": 18,
   "id": "e856769a-d0a8-4b5b-a211-73d55bcd8ba1",
   "metadata": {
    "pycharm": {
     "name": "#%%\n"
    }
   },
   "outputs": [
    {
     "data": {
      "text/plain": "0.03466852724527611"
     },
     "execution_count": 18,
     "metadata": {},
     "output_type": "execute_result"
    }
   ],
   "source": [
    "df_sort_dict=dict(Counter(list(df_1['code'])).most_common())\n",
    "keys_400=[x for x in list(df_sort_dict.keys()) if x>=400.0]\n",
    "\n",
    "count_400=0\n",
    "for x in keys_400:\n",
    "    count_400+=df_sort_dict[x]\n",
    "count_400/sum(df_sort_dict.values())"
   ]
  },
  {
   "cell_type": "markdown",
   "source": [
    "##### 访问频率最高的文件"
   ],
   "metadata": {
    "collapsed": false,
    "pycharm": {
     "name": "#%% md\n"
    }
   }
  },
  {
   "cell_type": "code",
   "execution_count": 17,
   "id": "a237a960-c32d-4eef-8af1-c376ca04d790",
   "metadata": {
    "pycharm": {
     "name": "#%%\n"
    }
   },
   "outputs": [
    {
     "name": "stderr",
     "output_type": "stream",
     "text": [
      "/Users/zhuoyujiang/opt/anaconda3/lib/python3.9/site-packages/pandas/core/indexing.py:1773: SettingWithCopyWarning: \n",
      "A value is trying to be set on a copy of a slice from a DataFrame.\n",
      "Try using .loc[row_indexer,col_indexer] = value instead\n",
      "\n",
      "See the caveats in the documentation: https://pandas.pydata.org/pandas-docs/stable/user_guide/indexing.html#returning-a-view-versus-a-copy\n",
      "  self._setitem_single_column(ilocs[0], value, pi)\n"
     ]
    },
    {
     "data": {
      "text/plain": "'1627631/0001627631-15-000004/.txt'"
     },
     "execution_count": 17,
     "metadata": {},
     "output_type": "execute_result"
    }
   ],
   "source": [
    "df_ad=df_1[['cik','accession','extention']]\n",
    "new_cik=[str(int(x)) for x in list(df_ad['cik'])]\n",
    "df_ad.loc[:,'cik']=new_cik\n",
    "ad_list=df_ad.values.tolist()\n",
    "\n",
    "join_4=['/'.join(x) for x in ad_list]\n",
    "\n",
    "detail = Counter(join_4)\n",
    "detail.most_common(1)[0][0]"
   ]
  },
  {
   "cell_type": "code",
   "execution_count": 9,
   "id": "f91a5ba2-ac64-4eca-890e-d912fb3b67b9",
   "metadata": {
    "pycharm": {
     "name": "#%%\n"
    }
   },
   "outputs": [],
   "source": [
    "import edgar_utils"
   ]
  },
  {
   "cell_type": "code",
   "execution_count": 10,
   "id": "03a95eb7-0796-4254-bff5-a97e06e48836",
   "metadata": {
    "pycharm": {
     "name": "#%%\n"
    }
   },
   "outputs": [],
   "source": [
    "ip_dict=dict(Counter(list(df_1['ip'])))\n",
    "ip_list=list(ip_dict.keys())\n",
    "ip_times=list(ip_dict.values())\n",
    "ip_region=[]\n",
    "for x in ip_list:\n",
    "    ip_region.append(edgar_utils.lookup_region(x))\n",
    "dict_region={'region':ip_region,\n",
    "             'ip':ip_list,\n",
    "             'values':ip_times}"
   ]
  },
  {
   "cell_type": "markdown",
   "source": [
    "##### 哪个地区使用EDGAR最多"
   ],
   "metadata": {
    "collapsed": false,
    "pycharm": {
     "name": "#%% md\n"
    }
   }
  },
  {
   "cell_type": "code",
   "execution_count": 11,
   "id": "48fd80bf-87b4-4a5e-8369-8c9a0c545b02",
   "metadata": {
    "pycharm": {
     "name": "#%%\n"
    }
   },
   "outputs": [
    {
     "data": {
      "text/plain": "'United States of America'"
     },
     "execution_count": 11,
     "metadata": {},
     "output_type": "execute_result"
    }
   ],
   "source": [
    "r_list=list(set(ip_region))\n",
    "    \n",
    "d = defaultdict(list)\n",
    "for i, v in enumerate(ip_region):\n",
    "    d[v].append(i)\n",
    "\n",
    "full_data=pd.DataFrame.from_dict(dict_region, orient='index')\n",
    "region_value={}\n",
    "for x in r_list:\n",
    "    y=sum(full_data.iloc[2,d[x]])\n",
    "    region_value[x]=y\n",
    "sorted(region_value.items(),key=lambda item:item[1])[-1][0]"
   ]
  },
  {
   "cell_type": "markdown",
   "source": [
    "##### 每个地区IP中有多少比例的高流量用户？"
   ],
   "metadata": {
    "collapsed": false,
    "pycharm": {
     "name": "#%% md\n"
    }
   }
  },
  {
   "cell_type": "code",
   "execution_count": 12,
   "id": "d184094a-52d2-48c6-a86a-2a00304d4f95",
   "metadata": {
    "pycharm": {
     "name": "#%%\n"
    }
   },
   "outputs": [
    {
     "data": {
      "text/plain": "{'Bangladesh': 0.0,\n 'Viet Nam': 0.0,\n 'Czechia': 0.0,\n 'Cyprus': 0.0,\n 'Hungary': 0.0,\n 'China': 0.006864988558352402,\n 'Egypt': 0.0,\n 'Indonesia': 0.0,\n 'Canada': 0.017857142857142856,\n 'Armenia': 0.0,\n 'Italy': 0.0,\n 'Switzerland': 0.0,\n 'Estonia': 0.0,\n 'Germany': 0.0,\n 'Jordan': 0.0,\n 'Tanzania, United Republic of': 0.0,\n 'Romania': 0.0,\n 'Mexico': 0.0,\n 'Japan': 0.0,\n 'Portugal': 0.0,\n 'Lebanon': 0.0,\n 'Syrian Arab Republic': 0.0,\n 'Sudan': 0.0,\n 'Mongolia': 0.0,\n 'Korea (Republic of)': 0.2,\n 'Philippines': 0.0,\n 'Algeria': 0.0,\n 'Yemen': 0.0,\n 'Russian Federation': 0.0,\n 'Finland': 0.0,\n 'Hong Kong': 0.0,\n 'Slovakia': 0.0,\n 'Liberia': 0.0,\n 'Denmark': 0.0,\n 'Netherlands': 0.0,\n 'Ukraine': 0.0,\n 'Iraq': 0.0,\n 'South Africa': 0.0,\n 'Bulgaria': 0.3333333333333333,\n 'Thailand': 0.0,\n 'Greece': 0.0,\n 'Brazil': 0.0,\n 'Slovenia': 0.0,\n 'Honduras': 0.0,\n 'Austria': 0.0,\n 'Turkey': 0.0,\n 'Australia': 0.07692307692307693,\n 'France': 0.0036900369003690036,\n 'Sweden': 0.0,\n 'Ireland': 0.3125,\n 'Malaysia': 0.0,\n 'Saudi Arabia': 0.0,\n '-': 0.0,\n 'Virgin Islands (British)': 0.0,\n 'United States of America': 0.019862490450725745,\n 'Taiwan (Province of China)': 0.0,\n 'Jersey': 0.0,\n 'Nigeria': 0.0,\n 'Singapore': 0.0,\n 'Latvia': 0.0,\n 'Luxembourg': 0.0,\n 'Morocco': 0.0,\n 'United Kingdom of Great Britain and Northern Ireland': 0.06666666666666667,\n 'Venezuela (Bolivarian Republic of)': 0.0,\n 'Poland': 0.0,\n 'Croatia': 0.0,\n 'Angola': 0.0,\n 'North Macedonia': 0.0,\n 'Pakistan': 0.0,\n 'Spain': 0.0,\n 'India': 0.058823529411764705,\n 'Israel': 0.0}"
     },
     "execution_count": 12,
     "metadata": {},
     "output_type": "execute_result"
    }
   ],
   "source": [
    "high_volume={}\n",
    "for x in r_list:\n",
    "    full_list=list(full_data.iloc[2,d[x]])\n",
    "    high_list=[]\n",
    "    for y in full_list:\n",
    "        if y>=1000:\n",
    "            high_list.append(y)\n",
    "    high_volume[x]=len(high_list)/len(full_list)\n",
    "high_volume"
   ]
  },
  {
   "cell_type": "markdown",
   "source": [
    "##### 某一文件中出现多少日期？"
   ],
   "metadata": {
    "collapsed": false,
    "pycharm": {
     "name": "#%% md\n"
    }
   }
  },
  {
   "cell_type": "code",
   "execution_count": 13,
   "outputs": [
    {
     "data": {
      "text/plain": "['2007-07-25', '2007-07-25', '2007-07-23']"
     },
     "execution_count": 13,
     "metadata": {},
     "output_type": "execute_result"
    }
   ],
   "source": [
    "with zipfile.ZipFile('docs.zip') as zf:\n",
    "    with zf.open(\"850693/0000850693-07-000159/-index.htm\", 'r') as f:\n",
    "        html8=f.read()\n",
    "edgar_utils.Filing(str(html8)).dates"
   ],
   "metadata": {
    "collapsed": false,
    "pycharm": {
     "name": "#%%\n"
    }
   }
  },
  {
   "cell_type": "markdown",
   "source": [
    "##### 该文件中州分布的情况"
   ],
   "metadata": {
    "collapsed": false,
    "pycharm": {
     "name": "#%% md\n"
    }
   }
  },
  {
   "cell_type": "code",
   "execution_count": 15,
   "id": "00fc885a-f649-4e51-8514-dda60f6901f6",
   "metadata": {
    "tags": [],
    "pycharm": {
     "name": "#%%\n"
    }
   },
   "outputs": [
    {
     "data": {
      "text/plain": "{'CA': 91,\n 'NY': 83,\n 'TX': 64,\n 'MA': 30,\n 'CO': 25,\n 'IL': 25,\n 'PA': 25,\n 'NJ': 23,\n 'FL': 21,\n 'VA': 15,\n 'MN': 15,\n 'CT': 14,\n 'MD': 13,\n 'MI': 11,\n 'OH': 10,\n 'DE': 10,\n 'NC': 9,\n 'WI': 9,\n 'GA': 8,\n 'OK': 7,\n 'OX': 6,\n 'NV': 6,\n 'IA': 6,\n 'UT': 5,\n 'KS': 5,\n 'AZ': 5,\n 'IN': 4,\n 'TN': 4,\n 'MO': 4,\n 'WA': 3,\n 'KY': 2,\n 'NE': 2,\n 'LA': 2,\n 'OR': 2,\n 'WV': 2,\n 'MS': 1,\n 'AL': 1,\n 'SD': 1,\n 'NM': 1,\n 'AR': 1,\n 'VT': 1,\n 'ID': 1,\n 'DC': 1,\n 'ME': 1}"
     },
     "execution_count": 15,
     "metadata": {},
     "output_type": "execute_result"
    }
   ],
   "source": [
    "state_filing={}\n",
    "file_name=[]\n",
    "with zipfile.ZipFile('docs.zip') as zf:\n",
    "    for x in zf.namelist():\n",
    "        if x.endswith('html') or x.endswith('htm'):\n",
    "            file_name.append(x)\n",
    "            with zf.open(x,'r') as f:\n",
    "                state_filing[x] = edgar_utils.Filing(str(f.read(),'utf-8'))\n",
    "state_code=[state_filing[m].state() for m in file_name]\n",
    "code_list=[x for x in state_code if x!=None]\n",
    "dict(Counter(code_list).most_common())"
   ]
  },
  {
   "cell_type": "code",
   "execution_count": 19,
   "id": "e0ad6782-16c6-4f12-a6be-6630bfd6868a",
   "metadata": {
    "pycharm": {
     "name": "#%%\n"
    }
   },
   "outputs": [],
   "source": [
    "with zipfile.ZipFile('docs.zip') as zf1:\n",
    "    html_content=[]\n",
    "    for y in file_name:\n",
    "        with zf1.open(y, 'r') as f1:\n",
    "            htmly=f1.read()\n",
    "            html_content.append(str(htmly))"
   ]
  },
  {
   "cell_type": "markdown",
   "source": [
    "##### 备案行业（SIC）代码分布情况"
   ],
   "metadata": {
    "collapsed": false,
    "pycharm": {
     "name": "#%% md\n"
    }
   }
  },
  {
   "cell_type": "code",
   "execution_count": 21,
   "id": "4791fb32-6768-4247-96b2-df0ba209989c",
   "metadata": {
    "pycharm": {
     "name": "#%%\n"
    }
   },
   "outputs": [
    {
     "data": {
      "text/plain": "{3585: 1,\n 5122: 2,\n 3590: 1,\n 8711: 2,\n 8200: 1,\n 1040: 2,\n 5651: 1,\n 2070: 1,\n 8731: 2,\n 5661: 2,\n 2080: 1,\n 7200: 3,\n 3620: 3,\n 3621: 2,\n 8742: 5,\n 5160: 1,\n 6189: 17,\n 3630: 1,\n 5172: 2,\n 6199: 8,\n 6200: 1,\n 2111: 2,\n 6211: 17,\n 3140: 1,\n 6221: 3,\n 3661: 2,\n 3663: 4,\n 3669: 2,\n 1623: 1,\n 3672: 1,\n 3674: 5,\n 3678: 1,\n 3679: 2,\n 5731: 1,\n 100: 1,\n 3690: 2,\n 2670: 1,\n 3695: 2,\n 6770: 1,\n 4213: 1,\n 3711: 1,\n 3714: 1,\n 7812: 2,\n 6792: 1,\n 3721: 1,\n 6282: 8,\n 6798: 20,\n 6799: 3,\n 7822: 1,\n 7311: 1,\n 3730: 1,\n 7830: 2,\n 2711: 1,\n 7320: 1,\n 7841: 1,\n 7330: 1,\n 1700: 5,\n 6311: 2,\n 7340: 1,\n 6321: 2,\n 6324: 2,\n 5812: 4,\n 7350: 1,\n 6331: 10,\n 2750: 1,\n 5311: 1,\n 7361: 1,\n 1731: 2,\n 7363: 1,\n 1221: 2,\n 3272: 2,\n 7370: 7,\n 7371: 6,\n 7372: 11,\n 4813: 4,\n 7374: 4,\n 7373: 3,\n 4812: 2,\n 7381: 1,\n 7384: 1,\n 2780: 1,\n 7389: 11,\n 7900: 2,\n 4833: 1,\n 2273: 1,\n 2790: 1,\n 4841: 2,\n 2800: 3,\n 3825: 2,\n 3826: 5,\n 3312: 1,\n 3827: 1,\n 3829: 3,\n 3317: 1,\n 2810: 2,\n 3841: 6,\n 3842: 4,\n 2820: 1,\n 3845: 2,\n 6411: 1,\n 5900: 2,\n 2320: 1,\n 2834: 40,\n 2836: 13,\n 2842: 1,\n 1311: 20,\n 4899: 1,\n 2860: 8,\n 4911: 8,\n 5940: 2,\n 2870: 2,\n 7990: 1,\n 5944: 1,\n 5945: 1,\n 4922: 2,\n 4924: 1,\n 4412: 1,\n 4931: 5,\n 5960: 1,\n 5961: 1,\n 2890: 1,\n 4941: 1,\n 4955: 1,\n 3420: 3,\n 2911: 1,\n 6500: 1,\n 1381: 1,\n 1382: 2,\n 5990: 1,\n 3944: 1,\n 1389: 19,\n 6513: 1,\n 3442: 1,\n 8051: 1,\n 3443: 1,\n 1400: 3,\n 5500: 2,\n 8062: 3,\n 2430: 1,\n 900: 5,\n 6021: 20,\n 6022: 20,\n 6029: 11,\n 8082: 2,\n 6035: 4,\n 6036: 1,\n 3990: 2,\n 8090: 1,\n 5531: 1,\n 8093: 1,\n 4512: 2,\n 3490: 1,\n 5030: 1,\n 4522: 5,\n 3510: 3,\n 5065: 2,\n 2510: 4,\n 3537: 1,\n 6099: 1,\n 3541: 1,\n 3550: 1,\n 6111: 1,\n 3559: 2,\n 1000: 11,\n 2024: 1,\n 2030: 1,\n 2033: 1,\n 3571: 1,\n 5621: 1,\n 3576: 3,\n 3577: 2,\n 3578: 1,\n 1531: 2,\n 6141: 2}"
     },
     "execution_count": 21,
     "metadata": {},
     "output_type": "execute_result"
    }
   ],
   "source": [
    "number=[edgar_utils.Filing(str(x)).sic for x in html_content]\n",
    "s_list=list(set(number))\n",
    "sic_filing={}\n",
    "d = defaultdict(list)\n",
    "for i, v in enumerate(number):\n",
    "    d[v].append(i)\n",
    "for x in s_list:\n",
    "    if x == None:\n",
    "        continue\n",
    "    else:\n",
    "        sic_filing[x]=len(d[x])\n",
    "sic_filing  "
   ]
  },
  {
   "cell_type": "markdown",
   "source": [
    "##### 各行业的需求分布情况"
   ],
   "metadata": {
    "collapsed": false,
    "pycharm": {
     "name": "#%% md\n"
    }
   }
  },
  {
   "cell_type": "code",
   "execution_count": 22,
   "id": "d8e59621-9972-494f-b4bc-4f5595c87b93",
   "metadata": {
    "tags": [],
    "pycharm": {
     "name": "#%%\n"
    }
   },
   "outputs": [
    {
     "data": {
      "text/plain": "{2834: 984,\n 1389: 656,\n 1311: 550,\n 2836: 429,\n 6022: 379,\n 1000: 273,\n 6211: 237,\n 7371: 229,\n 2860: 226,\n 6021: 204,\n 6282: 171,\n 2510: 171,\n 3825: 164,\n 4841: 108,\n 5621: 99,\n 7200: 94,\n 7374: 94,\n 6331: 91,\n 6798: 90,\n 5311: 90,\n 3842: 87,\n 6221: 85,\n 6029: 83,\n 3272: 81,\n 3829: 73,\n 4931: 70,\n 3510: 66,\n 7830: 62,\n 3826: 56,\n 3695: 55,\n 3620: 50,\n 7373: 48,\n 6799: 46,\n 4412: 43,\n 4512: 42,\n 7340: 40,\n 7370: 39,\n 900: 39,\n 6513: 38,\n 3621: 38,\n 5172: 36,\n 5900: 35,\n 4213: 35,\n 3990: 34,\n 5122: 34,\n 5944: 33,\n 2070: 33,\n 8090: 32,\n 1700: 31,\n 3312: 31,\n 1381: 31,\n 4922: 31,\n 6324: 30,\n 8742: 27,\n 7389: 26,\n 8731: 25,\n 7812: 25,\n 3590: 24,\n 4955: 23,\n 3663: 23,\n 4522: 22,\n 6321: 21,\n 3559: 20,\n 5812: 19,\n 6792: 19,\n 6189: 18,\n 7372: 16,\n 3841: 14,\n 6199: 11,\n 1731: 11,\n 4911: 8,\n 4833: 7,\n 6035: 7,\n 3571: 6,\n 2430: 6,\n 3679: 5,\n 3674: 5,\n 4813: 4,\n 3678: 4,\n 4812: 4,\n 1531: 4,\n 5500: 4,\n 6411: 3,\n 1400: 3,\n 2800: 3,\n 3420: 3,\n 8062: 3,\n 3576: 3,\n 2870: 2,\n 1040: 2,\n 8711: 2,\n 3669: 2,\n 3845: 2,\n 6770: 2,\n 1382: 2,\n 5065: 2,\n 8082: 2,\n 5661: 2,\n 7900: 2,\n 6141: 2,\n 1221: 2,\n 3661: 2,\n 3577: 2,\n 3690: 2,\n 2890: 2,\n 6311: 2,\n 2810: 2,\n 2111: 2,\n 5940: 2,\n 2080: 1,\n 3541: 1,\n 2711: 1,\n 7350: 1,\n 7990: 1,\n 2911: 1,\n 3721: 1,\n 5990: 1,\n 5731: 1,\n 5531: 1,\n 2750: 1,\n 2030: 1,\n 3714: 1,\n 3578: 1,\n 8093: 1,\n 8200: 1,\n 2670: 1,\n 2320: 1,\n 5961: 1,\n 8051: 1,\n 3944: 1,\n 5960: 1,\n 7822: 1,\n 3140: 1,\n 7841: 1,\n 3490: 1,\n 3672: 1,\n 3442: 1,\n 7330: 1,\n 4941: 1,\n 7361: 1,\n 6500: 1,\n 5945: 1,\n 5651: 1,\n 7311: 1,\n 2842: 1,\n 6111: 1,\n 2790: 1,\n 5030: 1,\n 7381: 1,\n 3630: 1,\n 2024: 1,\n 2780: 1,\n 2033: 1,\n 3537: 1,\n 3443: 1,\n 3711: 1,\n 7320: 1,\n 6099: 1,\n 7384: 1,\n 2820: 1,\n 3827: 1,\n 2273: 1,\n 100: 1,\n 4899: 1,\n 6036: 1,\n 7363: 1,\n 4924: 1,\n 3550: 1,\n 1623: 1,\n 3585: 1,\n 6200: 1,\n 3730: 1,\n 5160: 1,\n 3317: 1}"
     },
     "execution_count": 22,
     "metadata": {},
     "output_type": "execute_result"
    }
   ],
   "source": [
    "with zipfile.ZipFile('docs.zip') as zf1:\n",
    "    html_content={}\n",
    "    for y in file_name:\n",
    "        with zf1.open(y, 'r') as f1:\n",
    "            htmly=f1.read()\n",
    "            sic_code=edgar_utils.Filing(str(htmly)).sic\n",
    "            if sic_code != None:\n",
    "                html_content[y]=sic_code\n",
    "ad_list=df_ad.values.tolist()\n",
    "new_ad=['/'.join(x) for x in ad_list]\n",
    "\n",
    "three_ad=[html_content[new_ad[i]] for i in range(len(new_ad)) if new_ad[i] in list(html_content.keys())]\n",
    "\n",
    "dict(Counter(three_ad).most_common())"
   ]
  },
  {
   "cell_type": "markdown",
   "source": [
    "##### 每小时有多少请求"
   ],
   "metadata": {
    "collapsed": false,
    "pycharm": {
     "name": "#%% md\n"
    }
   }
  },
  {
   "cell_type": "code",
   "execution_count": 24,
   "outputs": [
    {
     "data": {
      "text/plain": "{0: 8305,\n 1: 8242,\n 2: 8550,\n 3: 8850,\n 4: 8343,\n 5: 9783,\n 6: 7761,\n 7: 8213,\n 8: 8292,\n 9: 11033,\n 10: 6377,\n 11: 6435,\n 12: 6155,\n 13: 6006,\n 14: 6654,\n 15: 6512,\n 16: 5680,\n 17: 6487,\n 18: 6356,\n 19: 6211,\n 20: 6066,\n 21: 6164,\n 22: 6098,\n 23: 6283}"
     },
     "execution_count": 24,
     "metadata": {},
     "output_type": "execute_result"
    }
   ],
   "source": [
    "df_1['time']=pd.to_datetime(df_1['time'])\n",
    "time_list=[int(str(x)[-8:-6]) for x in df_1['time']]\n",
    "dict(Counter(time_list))"
   ],
   "metadata": {
    "collapsed": false,
    "pycharm": {
     "name": "#%%\n"
    }
   }
  },
  {
   "cell_type": "code",
   "execution_count": 26,
   "id": "1ea56b94-3392-4a32-884c-8a275eb0df7d",
   "metadata": {
    "pycharm": {
     "name": "#%%\n"
    }
   },
   "outputs": [],
   "source": [
    "def final_state(country):\n",
    "    region_all=pd.DataFrame(dict_region)\n",
    "    df_france=region_all[region_all['region']==country]\n",
    "    df_ad=df_1[['ip','cik','accession','extention']]\n",
    "    target_all=[]\n",
    "    for x in list(df_france['ip']):\n",
    "        df_1_2=df_ad[df_ad['ip']==x]\n",
    "        target_all+=list(df_1_2.index)\n",
    "    final_list=[join_4[i] for i in target_all]\n",
    "    final_list_2=[x for x in final_list if x in file_name]\n",
    "    final_state=[state_filing[x].state() for x in final_list_2]\n",
    "    return final_state"
   ]
  },
  {
   "cell_type": "markdown",
   "source": [
    "##### 用graphviz graphs表示国家在地理上的重叠"
   ],
   "metadata": {
    "collapsed": false,
    "pycharm": {
     "name": "#%% md\n"
    }
   }
  },
  {
   "cell_type": "code",
   "execution_count": 28,
   "id": "8f708e48-7b93-48ee-8bfd-20f55f1d80ce",
   "metadata": {
    "pycharm": {
     "name": "#%%\n"
    }
   },
   "outputs": [
    {
     "ename": "ExecutableNotFound",
     "evalue": "failed to execute PosixPath('dot'), make sure the Graphviz executables are on your systems' PATH",
     "output_type": "error",
     "traceback": [
      "\u001B[0;31m---------------------------------------------------------------------------\u001B[0m",
      "\u001B[0;31mFileNotFoundError\u001B[0m                         Traceback (most recent call last)",
      "\u001B[0;32m~/opt/anaconda3/lib/python3.9/site-packages/graphviz/backend/execute.py\u001B[0m in \u001B[0;36mrun_check\u001B[0;34m(cmd, input_lines, encoding, quiet, **kwargs)\u001B[0m\n\u001B[1;32m     78\u001B[0m                 \u001B[0mkwargs\u001B[0m\u001B[0;34m[\u001B[0m\u001B[0;34m'stdout'\u001B[0m\u001B[0;34m]\u001B[0m \u001B[0;34m=\u001B[0m \u001B[0mkwargs\u001B[0m\u001B[0;34m[\u001B[0m\u001B[0;34m'stderr'\u001B[0m\u001B[0;34m]\u001B[0m \u001B[0;34m=\u001B[0m \u001B[0msubprocess\u001B[0m\u001B[0;34m.\u001B[0m\u001B[0mPIPE\u001B[0m\u001B[0;34m\u001B[0m\u001B[0;34m\u001B[0m\u001B[0m\n\u001B[0;32m---> 79\u001B[0;31m             \u001B[0mproc\u001B[0m \u001B[0;34m=\u001B[0m \u001B[0m_run_input_lines\u001B[0m\u001B[0;34m(\u001B[0m\u001B[0mcmd\u001B[0m\u001B[0;34m,\u001B[0m \u001B[0minput_lines\u001B[0m\u001B[0;34m,\u001B[0m \u001B[0mkwargs\u001B[0m\u001B[0;34m=\u001B[0m\u001B[0mkwargs\u001B[0m\u001B[0;34m)\u001B[0m\u001B[0;34m\u001B[0m\u001B[0;34m\u001B[0m\u001B[0m\n\u001B[0m\u001B[1;32m     80\u001B[0m         \u001B[0;32melse\u001B[0m\u001B[0;34m:\u001B[0m\u001B[0;34m\u001B[0m\u001B[0;34m\u001B[0m\u001B[0m\n",
      "\u001B[0;32m~/opt/anaconda3/lib/python3.9/site-packages/graphviz/backend/execute.py\u001B[0m in \u001B[0;36m_run_input_lines\u001B[0;34m(cmd, input_lines, kwargs)\u001B[0m\n\u001B[1;32m     98\u001B[0m \u001B[0;32mdef\u001B[0m \u001B[0m_run_input_lines\u001B[0m\u001B[0;34m(\u001B[0m\u001B[0mcmd\u001B[0m\u001B[0;34m,\u001B[0m \u001B[0minput_lines\u001B[0m\u001B[0;34m,\u001B[0m \u001B[0;34m*\u001B[0m\u001B[0;34m,\u001B[0m \u001B[0mkwargs\u001B[0m\u001B[0;34m)\u001B[0m\u001B[0;34m:\u001B[0m\u001B[0;34m\u001B[0m\u001B[0;34m\u001B[0m\u001B[0m\n\u001B[0;32m---> 99\u001B[0;31m     \u001B[0mpopen\u001B[0m \u001B[0;34m=\u001B[0m \u001B[0msubprocess\u001B[0m\u001B[0;34m.\u001B[0m\u001B[0mPopen\u001B[0m\u001B[0;34m(\u001B[0m\u001B[0mcmd\u001B[0m\u001B[0;34m,\u001B[0m \u001B[0mstdin\u001B[0m\u001B[0;34m=\u001B[0m\u001B[0msubprocess\u001B[0m\u001B[0;34m.\u001B[0m\u001B[0mPIPE\u001B[0m\u001B[0;34m,\u001B[0m \u001B[0;34m**\u001B[0m\u001B[0mkwargs\u001B[0m\u001B[0;34m)\u001B[0m\u001B[0;34m\u001B[0m\u001B[0;34m\u001B[0m\u001B[0m\n\u001B[0m\u001B[1;32m    100\u001B[0m \u001B[0;34m\u001B[0m\u001B[0m\n",
      "\u001B[0;32m~/opt/anaconda3/lib/python3.9/subprocess.py\u001B[0m in \u001B[0;36m__init__\u001B[0;34m(self, args, bufsize, executable, stdin, stdout, stderr, preexec_fn, close_fds, shell, cwd, env, universal_newlines, startupinfo, creationflags, restore_signals, start_new_session, pass_fds, user, group, extra_groups, encoding, errors, text, umask)\u001B[0m\n\u001B[1;32m    950\u001B[0m \u001B[0;34m\u001B[0m\u001B[0m\n\u001B[0;32m--> 951\u001B[0;31m             self._execute_child(args, executable, preexec_fn, close_fds,\n\u001B[0m\u001B[1;32m    952\u001B[0m                                 \u001B[0mpass_fds\u001B[0m\u001B[0;34m,\u001B[0m \u001B[0mcwd\u001B[0m\u001B[0;34m,\u001B[0m \u001B[0menv\u001B[0m\u001B[0;34m,\u001B[0m\u001B[0;34m\u001B[0m\u001B[0;34m\u001B[0m\u001B[0m\n",
      "\u001B[0;32m~/opt/anaconda3/lib/python3.9/subprocess.py\u001B[0m in \u001B[0;36m_execute_child\u001B[0;34m(self, args, executable, preexec_fn, close_fds, pass_fds, cwd, env, startupinfo, creationflags, shell, p2cread, p2cwrite, c2pread, c2pwrite, errread, errwrite, restore_signals, gid, gids, uid, umask, start_new_session)\u001B[0m\n\u001B[1;32m   1820\u001B[0m                         \u001B[0merr_msg\u001B[0m \u001B[0;34m=\u001B[0m \u001B[0mos\u001B[0m\u001B[0;34m.\u001B[0m\u001B[0mstrerror\u001B[0m\u001B[0;34m(\u001B[0m\u001B[0merrno_num\u001B[0m\u001B[0;34m)\u001B[0m\u001B[0;34m\u001B[0m\u001B[0;34m\u001B[0m\u001B[0m\n\u001B[0;32m-> 1821\u001B[0;31m                     \u001B[0;32mraise\u001B[0m \u001B[0mchild_exception_type\u001B[0m\u001B[0;34m(\u001B[0m\u001B[0merrno_num\u001B[0m\u001B[0;34m,\u001B[0m \u001B[0merr_msg\u001B[0m\u001B[0;34m,\u001B[0m \u001B[0merr_filename\u001B[0m\u001B[0;34m)\u001B[0m\u001B[0;34m\u001B[0m\u001B[0;34m\u001B[0m\u001B[0m\n\u001B[0m\u001B[1;32m   1822\u001B[0m                 \u001B[0;32mraise\u001B[0m \u001B[0mchild_exception_type\u001B[0m\u001B[0;34m(\u001B[0m\u001B[0merr_msg\u001B[0m\u001B[0;34m)\u001B[0m\u001B[0;34m\u001B[0m\u001B[0;34m\u001B[0m\u001B[0m\n",
      "\u001B[0;31mFileNotFoundError\u001B[0m: [Errno 2] No such file or directory: PosixPath('dot')",
      "\nThe above exception was the direct cause of the following exception:\n",
      "\u001B[0;31mExecutableNotFound\u001B[0m                        Traceback (most recent call last)",
      "\u001B[0;32m~/opt/anaconda3/lib/python3.9/site-packages/IPython/core/formatters.py\u001B[0m in \u001B[0;36m__call__\u001B[0;34m(self, obj, include, exclude)\u001B[0m\n\u001B[1;32m    968\u001B[0m \u001B[0;34m\u001B[0m\u001B[0m\n\u001B[1;32m    969\u001B[0m             \u001B[0;32mif\u001B[0m \u001B[0mmethod\u001B[0m \u001B[0;32mis\u001B[0m \u001B[0;32mnot\u001B[0m \u001B[0;32mNone\u001B[0m\u001B[0;34m:\u001B[0m\u001B[0;34m\u001B[0m\u001B[0;34m\u001B[0m\u001B[0m\n\u001B[0;32m--> 970\u001B[0;31m                 \u001B[0;32mreturn\u001B[0m \u001B[0mmethod\u001B[0m\u001B[0;34m(\u001B[0m\u001B[0minclude\u001B[0m\u001B[0;34m=\u001B[0m\u001B[0minclude\u001B[0m\u001B[0;34m,\u001B[0m \u001B[0mexclude\u001B[0m\u001B[0;34m=\u001B[0m\u001B[0mexclude\u001B[0m\u001B[0;34m)\u001B[0m\u001B[0;34m\u001B[0m\u001B[0;34m\u001B[0m\u001B[0m\n\u001B[0m\u001B[1;32m    971\u001B[0m             \u001B[0;32mreturn\u001B[0m \u001B[0;32mNone\u001B[0m\u001B[0;34m\u001B[0m\u001B[0;34m\u001B[0m\u001B[0m\n\u001B[1;32m    972\u001B[0m         \u001B[0;32melse\u001B[0m\u001B[0;34m:\u001B[0m\u001B[0;34m\u001B[0m\u001B[0;34m\u001B[0m\u001B[0m\n",
      "\u001B[0;32m~/opt/anaconda3/lib/python3.9/site-packages/graphviz/jupyter_integration.py\u001B[0m in \u001B[0;36m_repr_mimebundle_\u001B[0;34m(self, include, exclude, **_)\u001B[0m\n\u001B[1;32m     96\u001B[0m         \u001B[0minclude\u001B[0m \u001B[0;34m=\u001B[0m \u001B[0mset\u001B[0m\u001B[0;34m(\u001B[0m\u001B[0minclude\u001B[0m\u001B[0;34m)\u001B[0m \u001B[0;32mif\u001B[0m \u001B[0minclude\u001B[0m \u001B[0;32mis\u001B[0m \u001B[0;32mnot\u001B[0m \u001B[0;32mNone\u001B[0m \u001B[0;32melse\u001B[0m \u001B[0;34m{\u001B[0m\u001B[0mself\u001B[0m\u001B[0;34m.\u001B[0m\u001B[0m_jupyter_mimetype\u001B[0m\u001B[0;34m}\u001B[0m\u001B[0;34m\u001B[0m\u001B[0;34m\u001B[0m\u001B[0m\n\u001B[1;32m     97\u001B[0m         \u001B[0minclude\u001B[0m \u001B[0;34m-=\u001B[0m \u001B[0mset\u001B[0m\u001B[0;34m(\u001B[0m\u001B[0mexclude\u001B[0m \u001B[0;32mor\u001B[0m \u001B[0;34m[\u001B[0m\u001B[0;34m]\u001B[0m\u001B[0;34m)\u001B[0m\u001B[0;34m\u001B[0m\u001B[0;34m\u001B[0m\u001B[0m\n\u001B[0;32m---> 98\u001B[0;31m         return {mimetype: getattr(self, method_name)()\n\u001B[0m\u001B[1;32m     99\u001B[0m                 \u001B[0;32mfor\u001B[0m \u001B[0mmimetype\u001B[0m\u001B[0;34m,\u001B[0m \u001B[0mmethod_name\u001B[0m \u001B[0;32min\u001B[0m \u001B[0mMIME_TYPES\u001B[0m\u001B[0;34m.\u001B[0m\u001B[0mitems\u001B[0m\u001B[0;34m(\u001B[0m\u001B[0;34m)\u001B[0m\u001B[0;34m\u001B[0m\u001B[0;34m\u001B[0m\u001B[0m\n\u001B[1;32m    100\u001B[0m                 if mimetype in include}\n",
      "\u001B[0;32m~/opt/anaconda3/lib/python3.9/site-packages/graphviz/jupyter_integration.py\u001B[0m in \u001B[0;36m<dictcomp>\u001B[0;34m(.0)\u001B[0m\n\u001B[1;32m     96\u001B[0m         \u001B[0minclude\u001B[0m \u001B[0;34m=\u001B[0m \u001B[0mset\u001B[0m\u001B[0;34m(\u001B[0m\u001B[0minclude\u001B[0m\u001B[0;34m)\u001B[0m \u001B[0;32mif\u001B[0m \u001B[0minclude\u001B[0m \u001B[0;32mis\u001B[0m \u001B[0;32mnot\u001B[0m \u001B[0;32mNone\u001B[0m \u001B[0;32melse\u001B[0m \u001B[0;34m{\u001B[0m\u001B[0mself\u001B[0m\u001B[0;34m.\u001B[0m\u001B[0m_jupyter_mimetype\u001B[0m\u001B[0;34m}\u001B[0m\u001B[0;34m\u001B[0m\u001B[0;34m\u001B[0m\u001B[0m\n\u001B[1;32m     97\u001B[0m         \u001B[0minclude\u001B[0m \u001B[0;34m-=\u001B[0m \u001B[0mset\u001B[0m\u001B[0;34m(\u001B[0m\u001B[0mexclude\u001B[0m \u001B[0;32mor\u001B[0m \u001B[0;34m[\u001B[0m\u001B[0;34m]\u001B[0m\u001B[0;34m)\u001B[0m\u001B[0;34m\u001B[0m\u001B[0;34m\u001B[0m\u001B[0m\n\u001B[0;32m---> 98\u001B[0;31m         return {mimetype: getattr(self, method_name)()\n\u001B[0m\u001B[1;32m     99\u001B[0m                 \u001B[0;32mfor\u001B[0m \u001B[0mmimetype\u001B[0m\u001B[0;34m,\u001B[0m \u001B[0mmethod_name\u001B[0m \u001B[0;32min\u001B[0m \u001B[0mMIME_TYPES\u001B[0m\u001B[0;34m.\u001B[0m\u001B[0mitems\u001B[0m\u001B[0;34m(\u001B[0m\u001B[0;34m)\u001B[0m\u001B[0;34m\u001B[0m\u001B[0;34m\u001B[0m\u001B[0m\n\u001B[1;32m    100\u001B[0m                 if mimetype in include}\n",
      "\u001B[0;32m~/opt/anaconda3/lib/python3.9/site-packages/graphviz/jupyter_integration.py\u001B[0m in \u001B[0;36m_repr_image_svg_xml\u001B[0;34m(self)\u001B[0m\n\u001B[1;32m    110\u001B[0m     \u001B[0;32mdef\u001B[0m \u001B[0m_repr_image_svg_xml\u001B[0m\u001B[0;34m(\u001B[0m\u001B[0mself\u001B[0m\u001B[0;34m)\u001B[0m \u001B[0;34m->\u001B[0m \u001B[0mstr\u001B[0m\u001B[0;34m:\u001B[0m\u001B[0;34m\u001B[0m\u001B[0;34m\u001B[0m\u001B[0m\n\u001B[1;32m    111\u001B[0m         \u001B[0;34m\"\"\"Return the rendered graph as SVG string.\"\"\"\u001B[0m\u001B[0;34m\u001B[0m\u001B[0;34m\u001B[0m\u001B[0m\n\u001B[0;32m--> 112\u001B[0;31m         \u001B[0;32mreturn\u001B[0m \u001B[0mself\u001B[0m\u001B[0;34m.\u001B[0m\u001B[0mpipe\u001B[0m\u001B[0;34m(\u001B[0m\u001B[0mformat\u001B[0m\u001B[0;34m=\u001B[0m\u001B[0;34m'svg'\u001B[0m\u001B[0;34m,\u001B[0m \u001B[0mencoding\u001B[0m\u001B[0;34m=\u001B[0m\u001B[0mSVG_ENCODING\u001B[0m\u001B[0;34m)\u001B[0m\u001B[0;34m\u001B[0m\u001B[0;34m\u001B[0m\u001B[0m\n\u001B[0m",
      "\u001B[0;32m~/opt/anaconda3/lib/python3.9/site-packages/graphviz/piping.py\u001B[0m in \u001B[0;36mpipe\u001B[0;34m(self, format, renderer, formatter, neato_no_op, quiet, engine, encoding)\u001B[0m\n\u001B[1;32m    102\u001B[0m             \u001B[0;34m'<?xml version='\u001B[0m\u001B[0;34m\u001B[0m\u001B[0;34m\u001B[0m\u001B[0m\n\u001B[1;32m    103\u001B[0m         \"\"\"\n\u001B[0;32m--> 104\u001B[0;31m         return self._pipe_legacy(format,\n\u001B[0m\u001B[1;32m    105\u001B[0m                                  \u001B[0mrenderer\u001B[0m\u001B[0;34m=\u001B[0m\u001B[0mrenderer\u001B[0m\u001B[0;34m,\u001B[0m\u001B[0;34m\u001B[0m\u001B[0;34m\u001B[0m\u001B[0m\n\u001B[1;32m    106\u001B[0m                                  \u001B[0mformatter\u001B[0m\u001B[0;34m=\u001B[0m\u001B[0mformatter\u001B[0m\u001B[0;34m,\u001B[0m\u001B[0;34m\u001B[0m\u001B[0;34m\u001B[0m\u001B[0m\n",
      "\u001B[0;32m~/opt/anaconda3/lib/python3.9/site-packages/graphviz/_tools.py\u001B[0m in \u001B[0;36mwrapper\u001B[0;34m(*args, **kwargs)\u001B[0m\n\u001B[1;32m    169\u001B[0m                               category=category)\n\u001B[1;32m    170\u001B[0m \u001B[0;34m\u001B[0m\u001B[0m\n\u001B[0;32m--> 171\u001B[0;31m             \u001B[0;32mreturn\u001B[0m \u001B[0mfunc\u001B[0m\u001B[0;34m(\u001B[0m\u001B[0;34m*\u001B[0m\u001B[0margs\u001B[0m\u001B[0;34m,\u001B[0m \u001B[0;34m**\u001B[0m\u001B[0mkwargs\u001B[0m\u001B[0;34m)\u001B[0m\u001B[0;34m\u001B[0m\u001B[0;34m\u001B[0m\u001B[0m\n\u001B[0m\u001B[1;32m    172\u001B[0m \u001B[0;34m\u001B[0m\u001B[0m\n\u001B[1;32m    173\u001B[0m         \u001B[0;32mreturn\u001B[0m \u001B[0mwrapper\u001B[0m\u001B[0;34m\u001B[0m\u001B[0;34m\u001B[0m\u001B[0m\n",
      "\u001B[0;32m~/opt/anaconda3/lib/python3.9/site-packages/graphviz/piping.py\u001B[0m in \u001B[0;36m_pipe_legacy\u001B[0;34m(self, format, renderer, formatter, neato_no_op, quiet, engine, encoding)\u001B[0m\n\u001B[1;32m    119\u001B[0m                      \u001B[0mengine\u001B[0m\u001B[0;34m:\u001B[0m \u001B[0mtyping\u001B[0m\u001B[0;34m.\u001B[0m\u001B[0mOptional\u001B[0m\u001B[0;34m[\u001B[0m\u001B[0mstr\u001B[0m\u001B[0;34m]\u001B[0m \u001B[0;34m=\u001B[0m \u001B[0;32mNone\u001B[0m\u001B[0;34m,\u001B[0m\u001B[0;34m\u001B[0m\u001B[0;34m\u001B[0m\u001B[0m\n\u001B[1;32m    120\u001B[0m                      encoding: typing.Optional[str] = None) -> typing.Union[bytes, str]:\n\u001B[0;32m--> 121\u001B[0;31m         return self._pipe_future(format,\n\u001B[0m\u001B[1;32m    122\u001B[0m                                  \u001B[0mrenderer\u001B[0m\u001B[0;34m=\u001B[0m\u001B[0mrenderer\u001B[0m\u001B[0;34m,\u001B[0m\u001B[0;34m\u001B[0m\u001B[0;34m\u001B[0m\u001B[0m\n\u001B[1;32m    123\u001B[0m                                  \u001B[0mformatter\u001B[0m\u001B[0;34m=\u001B[0m\u001B[0mformatter\u001B[0m\u001B[0;34m,\u001B[0m\u001B[0;34m\u001B[0m\u001B[0;34m\u001B[0m\u001B[0m\n",
      "\u001B[0;32m~/opt/anaconda3/lib/python3.9/site-packages/graphviz/piping.py\u001B[0m in \u001B[0;36m_pipe_future\u001B[0;34m(self, format, renderer, formatter, neato_no_op, quiet, engine, encoding)\u001B[0m\n\u001B[1;32m    147\u001B[0m             \u001B[0;32mif\u001B[0m \u001B[0mcodecs\u001B[0m\u001B[0;34m.\u001B[0m\u001B[0mlookup\u001B[0m\u001B[0;34m(\u001B[0m\u001B[0mencoding\u001B[0m\u001B[0;34m)\u001B[0m \u001B[0;32mis\u001B[0m \u001B[0mcodecs\u001B[0m\u001B[0;34m.\u001B[0m\u001B[0mlookup\u001B[0m\u001B[0;34m(\u001B[0m\u001B[0mself\u001B[0m\u001B[0;34m.\u001B[0m\u001B[0mencoding\u001B[0m\u001B[0;34m)\u001B[0m\u001B[0;34m:\u001B[0m\u001B[0;34m\u001B[0m\u001B[0;34m\u001B[0m\u001B[0m\n\u001B[1;32m    148\u001B[0m                 \u001B[0;31m# common case: both stdin and stdout need the same encoding\u001B[0m\u001B[0;34m\u001B[0m\u001B[0;34m\u001B[0m\u001B[0m\n\u001B[0;32m--> 149\u001B[0;31m                 \u001B[0;32mreturn\u001B[0m \u001B[0mself\u001B[0m\u001B[0;34m.\u001B[0m\u001B[0m_pipe_lines_string\u001B[0m\u001B[0;34m(\u001B[0m\u001B[0;34m*\u001B[0m\u001B[0margs\u001B[0m\u001B[0;34m,\u001B[0m \u001B[0mencoding\u001B[0m\u001B[0;34m=\u001B[0m\u001B[0mencoding\u001B[0m\u001B[0;34m,\u001B[0m \u001B[0;34m**\u001B[0m\u001B[0mkwargs\u001B[0m\u001B[0;34m)\u001B[0m\u001B[0;34m\u001B[0m\u001B[0;34m\u001B[0m\u001B[0m\n\u001B[0m\u001B[1;32m    150\u001B[0m             \u001B[0;32mtry\u001B[0m\u001B[0;34m:\u001B[0m\u001B[0;34m\u001B[0m\u001B[0;34m\u001B[0m\u001B[0m\n\u001B[1;32m    151\u001B[0m                 \u001B[0mraw\u001B[0m \u001B[0;34m=\u001B[0m \u001B[0mself\u001B[0m\u001B[0;34m.\u001B[0m\u001B[0m_pipe_lines\u001B[0m\u001B[0;34m(\u001B[0m\u001B[0;34m*\u001B[0m\u001B[0margs\u001B[0m\u001B[0;34m,\u001B[0m \u001B[0minput_encoding\u001B[0m\u001B[0;34m=\u001B[0m\u001B[0mself\u001B[0m\u001B[0;34m.\u001B[0m\u001B[0mencoding\u001B[0m\u001B[0;34m,\u001B[0m \u001B[0;34m**\u001B[0m\u001B[0mkwargs\u001B[0m\u001B[0;34m)\u001B[0m\u001B[0;34m\u001B[0m\u001B[0;34m\u001B[0m\u001B[0m\n",
      "\u001B[0;32m~/opt/anaconda3/lib/python3.9/site-packages/graphviz/backend/piping.py\u001B[0m in \u001B[0;36mpipe_lines_string\u001B[0;34m(engine, format, input_lines, encoding, renderer, formatter, neato_no_op, quiet)\u001B[0m\n\u001B[1;32m    210\u001B[0m     \u001B[0mkwargs\u001B[0m \u001B[0;34m=\u001B[0m \u001B[0;34m{\u001B[0m\u001B[0;34m'input_lines'\u001B[0m\u001B[0;34m:\u001B[0m \u001B[0minput_lines\u001B[0m\u001B[0;34m,\u001B[0m \u001B[0;34m'encoding'\u001B[0m\u001B[0;34m:\u001B[0m \u001B[0mencoding\u001B[0m\u001B[0;34m}\u001B[0m\u001B[0;34m\u001B[0m\u001B[0;34m\u001B[0m\u001B[0m\n\u001B[1;32m    211\u001B[0m \u001B[0;34m\u001B[0m\u001B[0m\n\u001B[0;32m--> 212\u001B[0;31m     \u001B[0mproc\u001B[0m \u001B[0;34m=\u001B[0m \u001B[0mexecute\u001B[0m\u001B[0;34m.\u001B[0m\u001B[0mrun_check\u001B[0m\u001B[0;34m(\u001B[0m\u001B[0mcmd\u001B[0m\u001B[0;34m,\u001B[0m \u001B[0mcapture_output\u001B[0m\u001B[0;34m=\u001B[0m\u001B[0;32mTrue\u001B[0m\u001B[0;34m,\u001B[0m \u001B[0mquiet\u001B[0m\u001B[0;34m=\u001B[0m\u001B[0mquiet\u001B[0m\u001B[0;34m,\u001B[0m \u001B[0;34m**\u001B[0m\u001B[0mkwargs\u001B[0m\u001B[0;34m)\u001B[0m\u001B[0;34m\u001B[0m\u001B[0;34m\u001B[0m\u001B[0m\n\u001B[0m\u001B[1;32m    213\u001B[0m     \u001B[0;32mreturn\u001B[0m \u001B[0mproc\u001B[0m\u001B[0;34m.\u001B[0m\u001B[0mstdout\u001B[0m\u001B[0;34m\u001B[0m\u001B[0;34m\u001B[0m\u001B[0m\n",
      "\u001B[0;32m~/opt/anaconda3/lib/python3.9/site-packages/graphviz/backend/execute.py\u001B[0m in \u001B[0;36mrun_check\u001B[0;34m(cmd, input_lines, encoding, quiet, **kwargs)\u001B[0m\n\u001B[1;32m     82\u001B[0m     \u001B[0;32mexcept\u001B[0m \u001B[0mOSError\u001B[0m \u001B[0;32mas\u001B[0m \u001B[0me\u001B[0m\u001B[0;34m:\u001B[0m\u001B[0;34m\u001B[0m\u001B[0;34m\u001B[0m\u001B[0m\n\u001B[1;32m     83\u001B[0m         \u001B[0;32mif\u001B[0m \u001B[0me\u001B[0m\u001B[0;34m.\u001B[0m\u001B[0merrno\u001B[0m \u001B[0;34m==\u001B[0m \u001B[0merrno\u001B[0m\u001B[0;34m.\u001B[0m\u001B[0mENOENT\u001B[0m\u001B[0;34m:\u001B[0m\u001B[0;34m\u001B[0m\u001B[0;34m\u001B[0m\u001B[0m\n\u001B[0;32m---> 84\u001B[0;31m             \u001B[0;32mraise\u001B[0m \u001B[0mExecutableNotFound\u001B[0m\u001B[0;34m(\u001B[0m\u001B[0mcmd\u001B[0m\u001B[0;34m)\u001B[0m \u001B[0;32mfrom\u001B[0m \u001B[0me\u001B[0m\u001B[0;34m\u001B[0m\u001B[0;34m\u001B[0m\u001B[0m\n\u001B[0m\u001B[1;32m     85\u001B[0m         \u001B[0;32mraise\u001B[0m\u001B[0;34m\u001B[0m\u001B[0;34m\u001B[0m\u001B[0m\n\u001B[1;32m     86\u001B[0m \u001B[0;34m\u001B[0m\u001B[0m\n",
      "\u001B[0;31mExecutableNotFound\u001B[0m: failed to execute PosixPath('dot'), make sure the Graphviz executables are on your systems' PATH"
     ]
    },
    {
     "data": {
      "text/plain": "<graphviz.graphs.Digraph at 0x7fe619007280>"
     },
     "execution_count": 28,
     "metadata": {},
     "output_type": "execute_result"
    }
   ],
   "source": [
    "from graphviz import Digraph\n",
    "g=Digraph()\n",
    "countries=['Australia',\"France\",\"Viet Nam\"]\n",
    "for x in countries:\n",
    "    g.node(x)\n",
    "    for y in list(set(final_state(x))):\n",
    "        g.edge(x,y)\n",
    "g"
   ]
  },
  {
   "cell_type": "markdown",
   "source": [
    "##### 最常见的街道地址"
   ],
   "metadata": {
    "collapsed": false,
    "pycharm": {
     "name": "#%% md\n"
    }
   }
  },
  {
   "cell_type": "code",
   "execution_count": 29,
   "id": "4b8576f7-377a-4fa7-ad05-3c5af4745f71",
   "metadata": {
    "pycharm": {
     "name": "#%%\n"
    }
   },
   "outputs": [
    {
     "data": {
      "text/plain": "{'801 CHERRY STREET\\nSUITE 2100\\nFORT WORTH TX 76102': 720,\n '801 CHERRY STREET\\nSUITE 2100\\nFORT WORTH TX 76102\\n817-334-4100': 464,\n '1114 AVENUE OF THE AMERICAS\\n29TH FLOOR\\nNEW YORK NY 10036': 356,\n '1 SANSOME ST\\n30TH FL\\nSAN FRANCISCO CA 94104': 305,\n '10119 W. LARIAT LANE\\nPEORIA AZ 85383': 289,\n '10119 W. LARIAT LANE\\nPEORIA AZ 85383\\n425-442-0931': 289,\n '1881 GROVE AVENUE\\nRADFORD VA 24141': 277,\n '1 SANSOME ST\\n30TH FL\\nSAN FRANCISCO CA 94104\\n3125066500': 264,\n '1251 AVENUE OF THE AMERICAS\\nNEW YORK NY 10020': 225,\n '1251 AVENUE OF THE AMERICAS\\nNEW YORK NY 10020\\n212-956-2221': 225,\n '1177 WEST HASTINGS STREET\\nSUITE 2300\\nVANCOUVER A1 V6E 2K3': 225,\n '1177 WEST HASTINGS STREET\\nSUITE 2300\\nVANCOUVER A1 V6E 2K3\\n604-683-6332': 225}"
     },
     "execution_count": 29,
     "metadata": {},
     "output_type": "execute_result"
    }
   ],
   "source": [
    "address={}\n",
    "for i in df_1.itertuples():\n",
    "    cik=int(i.cik)\n",
    "    accession=str(i.accession)\n",
    "    extention=i.extention\n",
    "    link=str(cik)+'/'+accession+'/'+extention\n",
    "    if link in file_name:\n",
    "        one_add=state_filing[link].addresses\n",
    "        for x in one_add:\n",
    "            if x not in address:\n",
    "                address[x]=1\n",
    "            else:\n",
    "                address[x]+=1  \n",
    "final_=[]\n",
    "for x in Counter(address).most_common():\n",
    "    if x[1] >=225:\n",
    "        final_.append(x)\n",
    "\n",
    "dict(final_)"
   ]
  },
  {
   "cell_type": "markdown",
   "source": [
    "##### 邮政编码地理标绘"
   ],
   "metadata": {
    "collapsed": false,
    "pycharm": {
     "name": "#%% md\n"
    }
   }
  },
  {
   "cell_type": "code",
   "execution_count": 31,
   "id": "467f4f26-e285-4641-91b7-ee7dfa5377c5",
   "metadata": {
    "pycharm": {
     "name": "#%%\n"
    }
   },
   "outputs": [
    {
     "data": {
      "text/plain": "<Figure size 432x288 with 2 Axes>",
      "image/png": "[encoded data removed]"
     },
     "metadata": {
      "needs_background": "light"
     },
     "output_type": "display_data"
    }
   ],
   "source": [
    "import geopandas\n",
    "import pandas as pd\n",
    "from shapely.geometry import Point, Polygon, box\n",
    "b=box(-90,20,-55,50)\n",
    "data = geopandas.read_file('locations.geojson')\n",
    "\n",
    "code_list=[]\n",
    "address_list=list(data['address'])\n",
    "for i in range(len(address_list)):\n",
    "    code=re.findall(r\"[0-9]{5}$|[0-9]{5}-[0-9]{4}$\",address_list[i])\n",
    "    if len(code)>0:\n",
    "        if len(code[0])==5:\n",
    "            code_list.append(int(code[0]))\n",
    "        else:\n",
    "            code_list.append(int(code[0][:5]))\n",
    "    else:\n",
    "        code_list.append(0)\n",
    "data['code']=code_list\n",
    "data1=data[data['code']>=20000]\n",
    "data2=data[data['code']<=70000]\n",
    "data=geopandas.sjoin(data1,data2)\n",
    "is_data=~data.intersection(b).is_empty\n",
    "data=data[is_data]\n",
    "region=geopandas.read_file(\"shapes/cb_2018_us_state_20m.shp\")\n",
    "background_region=region.intersection(b).to_crs(epsg=2022)\n",
    "data_location=data.to_crs(epsg=2022)\n",
    "\n",
    "ax=background_region.plot(color='0.7')\n",
    "data_location.plot(ax=ax,figsize=(8,3),column='code_left',legend=True, cmap=\"viridis\")\n",
    "ax.set_axis_off()"
   ]
  },
  {
   "cell_type": "code",
   "execution_count": null,
   "id": "92aeac64-dbef-4d51-b23d-e57d073fddda",
   "metadata": {
    "pycharm": {
     "name": "#%%\n"
    }
   },
   "outputs": [],
   "source": []
  }
 ],
 "metadata": {
  "kernelspec": {
   "display_name": "Python 3 (ipykernel)",
   "language": "python",
   "name": "python3"
  },
  "language_info": {
   "codemirror_mode": {
    "name": "ipython",
    "version": 3
   },
   "file_extension": ".py",
   "mimetype": "text/x-python",
   "name": "python",
   "nbconvert_exporter": "python",
   "pygments_lexer": "ipython3",
   "version": "3.8.10"
  }
 },
 "nbformat": 4,
 "nbformat_minor": 5
}