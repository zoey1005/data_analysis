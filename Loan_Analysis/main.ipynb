{
 "cells": [
  {
   "cell_type": "markdown",
   "source": [],
   "metadata": {
    "collapsed": false,
    "pycharm": {
     "name": "#%% md\n"
    }
   }
  },
  {
   "cell_type": "markdown",
   "source": [
    "##### There is a long history of lending discrimination based on race in the United States. Lenders have literally drawn red lines on a map around certain neighbourhoods where they would not offer loans, based on the racial demographics of those neighbourhoods (read more about redlining here: https://en.wikipedia.org/wiki/Redlining). In 1975, congress passed the Home Mortgage Disclosure Act (HDMA) to bring more transparency to this injustice (https://en.wikipedia.org/wiki/Home_Mortgage_Disclosure_Act). The idea is that banks must report details about loan applications and which loans they decided to approve.\n",
    "\n",
    "##### The public HDMA dataset spans all the states and many years, and is documented here:\n",
    "\n",
    "https://www.ffiec.gov/hmda/pdf/2020guide.pdf\n",
    "https://cfpb.github.io/hmda-platform/#hmda-api-documentation\n",
    "##### In this project, we'll analyze every loan application made in Wisconsin in 2020.\n",
    "\n",
    "##### 在美国，基于种族的贷款歧视由来已久。贷款人根据这些社区的种族人口统计数据，在他们不会提供贷款的某些社区周围的地图上画了红线（在此处阅读有关红线的更多信息：https ://en.wikipedia.org/wiki/Redlining ）。1975 年，国会通过了住房抵押贷款披露法案 (HDMA)，以提高这种不公正现象的透明度 ( https://en.wikipedia.org/wiki/Home_Mortgage_Disclosure_Act )。这个想法是银行必须报告有关贷款申请的详细信息以及他们决定批准哪些贷款。\n",
    "\n",
    "##### 公共 HDMA 数据集跨越所有州和多年，并在此处记录：\n",
    "\n",
    "https://www.ffiec.gov/hmda/pdf/2020guide.pdf\n",
    "https://cfpb.github.io/hmda-platform/#hmda-api-documentation\n",
    "##### 在此项目中，我们将分析 2020 年在威斯康星州提出的每份贷款申请。"
   ],
   "metadata": {
    "collapsed": false,
    "pycharm": {
     "name": "#%% md\n"
    }
   }
  },
  {
   "cell_type": "markdown",
   "source": [
    "##### 会包括：\n",
    "###### classes\n",
    "###### large dataset\n",
    "###### trees\n",
    "###### testing\n",
    "###### modeles"
   ],
   "metadata": {
    "collapsed": false,
    "pycharm": {
     "name": "#%% md\n"
    }
   }
  },
  {
   "cell_type": "code",
   "execution_count": 1,
   "outputs": [],
   "source": [
    "import loans\n",
    "import search"
   ],
   "metadata": {
    "collapsed": false,
    "pycharm": {
     "name": "#%%\n"
    }
   }
  },
  {
   "cell_type": "code",
   "execution_count": 2,
   "outputs": [],
   "source": [
    "%load_ext autoreload\n",
    "%autoreload 2"
   ],
   "metadata": {
    "collapsed": false,
    "pycharm": {
     "name": "#%%\n"
    }
   }
  },
  {
   "cell_type": "code",
   "execution_count": 27,
   "outputs": [],
   "source": [
    "bank_target=loans.Bank('First Home Bank')"
   ],
   "metadata": {
    "collapsed": false,
    "pycharm": {
     "name": "#%%\n"
    }
   }
  },
  {
   "cell_type": "markdown",
   "source": [
    "##### Average Interest Rate for the Bank"
   ],
   "metadata": {
    "collapsed": false,
    "pycharm": {
     "name": "#%% md\n"
    }
   }
  },
  {
   "cell_type": "code",
   "execution_count": 28,
   "outputs": [
    {
     "data": {
      "text/plain": "2.962962962962963"
     },
     "execution_count": 28,
     "metadata": {},
     "output_type": "execute_result"
    }
   ],
   "source": [
    "total_interest=0\n",
    "bank_count=0\n",
    "for x in bank_target:\n",
    "    if x.interest_rate ==-1:\n",
    "        pass\n",
    "    else:\n",
    "        total_interest += x.interest_rate\n",
    "        bank_count += 1\n",
    "total_interest/bank_count"
   ],
   "metadata": {
    "collapsed": false,
    "pycharm": {
     "name": "#%%\n"
    }
   }
  },
  {
   "cell_type": "markdown",
   "source": [
    "##### How many applicants are there per loan, on average?"
   ],
   "metadata": {
    "collapsed": false,
    "pycharm": {
     "name": "#%% md\n"
    }
   }
  },
  {
   "cell_type": "code",
   "execution_count": 29,
   "outputs": [
    {
     "data": {
      "text/plain": "1.5777777777777777"
     },
     "execution_count": 29,
     "metadata": {},
     "output_type": "execute_result"
    }
   ],
   "source": [
    "applicants_count = 0\n",
    "loans_count = 0\n",
    "for x in bank_target:\n",
    "    applicants_count += len(x.applicants)\n",
    "    loans_count += 1\n",
    "applicants_count/loans_count"
   ],
   "metadata": {
    "collapsed": false,
    "pycharm": {
     "name": "#%%\n"
    }
   }
  },
  {
   "cell_type": "markdown",
   "source": [
    "##### What is the distribution of ages"
   ],
   "metadata": {
    "collapsed": false,
    "pycharm": {
     "name": "#%% md\n"
    }
   }
  },
  {
   "cell_type": "code",
   "execution_count": 30,
   "outputs": [
    {
     "data": {
      "text/plain": "{'65-74': 21, '45-54': 21, '>74': 5, '25-34': 4, '35-44': 13, '55-64': 7}"
     },
     "execution_count": 30,
     "metadata": {},
     "output_type": "execute_result"
    }
   ],
   "source": [
    "age=dict()\n",
    "for x in bank_target:\n",
    "    for i in x.applicants:\n",
    "        age[i.age] = age.get(i.age, 0) + 1\n",
    "age"
   ],
   "metadata": {
    "collapsed": false,
    "pycharm": {
     "name": "#%%\n"
    }
   }
  },
  {
   "cell_type": "markdown",
   "source": [
    "##### How many interest rate values are missing? (Binary search tree)"
   ],
   "metadata": {
    "collapsed": false,
    "pycharm": {
     "name": "#%% md\n"
    }
   }
  },
  {
   "cell_type": "code",
   "execution_count": 34,
   "outputs": [
    {
     "data": {
      "text/plain": "[<Loan: -1.0% on $-1.0 with 1 applicant(s)>,\n <Loan: -1.0% on $-1.0 with 1 applicant(s)>,\n <Loan: -1.0% on $-1.0 with 1 applicant(s)>,\n <Loan: -1.0% on $95000.0 with 1 applicant(s)>,\n <Loan: -1.0% on $-1.0 with 1 applicant(s)>,\n <Loan: -1.0% on $-1.0 with 1 applicant(s)>,\n <Loan: -1.0% on $315000.0 with 1 applicant(s)>,\n <Loan: -1.0% on $-1.0 with 1 applicant(s)>,\n <Loan: -1.0% on $-1.0 with 1 applicant(s)>,\n <Loan: -1.0% on $-1.0 with 1 applicant(s)>,\n <Loan: -1.0% on $-1.0 with 1 applicant(s)>,\n <Loan: -1.0% on $-1.0 with 1 applicant(s)>,\n <Loan: -1.0% on $-1.0 with 1 applicant(s)>,\n <Loan: -1.0% on $-1.0 with 1 applicant(s)>,\n <Loan: -1.0% on $-1.0 with 1 applicant(s)>,\n <Loan: -1.0% on $-1.0 with 1 applicant(s)>,\n <Loan: -1.0% on $-1.0 with 1 applicant(s)>,\n <Loan: -1.0% on $-1.0 with 1 applicant(s)>]"
     },
     "execution_count": 34,
     "metadata": {},
     "output_type": "execute_result"
    }
   ],
   "source": [
    "tree=search.BST()\n",
    "for i in bank_target.list_values:\n",
    "    tree.add(i.interest_rate, i)\n",
    "tree.__getitem__(-1) # missing rate is -1"
   ],
   "metadata": {
    "collapsed": false,
    "pycharm": {
     "name": "#%%\n"
    }
   }
  },
  {
   "cell_type": "markdown",
   "source": [
    "##### How tall is the tree"
   ],
   "metadata": {
    "collapsed": false,
    "pycharm": {
     "name": "#%% md\n"
    }
   }
  },
  {
   "cell_type": "code",
   "execution_count": 35,
   "outputs": [
    {
     "data": {
      "text/plain": "9"
     },
     "execution_count": 35,
     "metadata": {},
     "output_type": "execute_result"
    }
   ],
   "source": [
    "def height(node):\n",
    "    if node is None:\n",
    "        return 0\n",
    "    lefAns = height(node.left)\n",
    "    rigtAns = height(node.right)\n",
    "    return max(lefAns, rigtAns)+1\n",
    "height(tree.root)"
   ],
   "metadata": {
    "collapsed": false,
    "pycharm": {
     "name": "#%%\n"
    }
   }
  },
  {
   "cell_type": "markdown",
   "source": [
    "##### how long does it takes to add the loans to the tree?"
   ],
   "metadata": {
    "collapsed": false,
    "pycharm": {
     "name": "#%% md\n"
    }
   }
  },
  {
   "cell_type": "code",
   "execution_count": 95,
   "outputs": [
    {
     "data": {
      "text/plain": "<Figure size 432x288 with 1 Axes>",
      "image/png": "[encoded data removed]"
     },
     "metadata": {
      "needs_background": "light"
     },
     "output_type": "display_data"
    }
   ],
   "source": [
    "import time\n",
    "from matplotlib import  pyplot as plt\n",
    "import numpy as np\n",
    "bank_target2=loans.Bank('University of Wisconsin Credit Union')\n",
    "tree=search.BST()\n",
    "iter_rows = []\n",
    "time0 = time.time()\n",
    "nums = [0, 5000, 10000, 15000, 20000]\n",
    "for i in bank_target2.list_values:\n",
    "    tree.add(i.interest_rate, i)\n",
    "    time1 = time.time()\n",
    "    iter_rows.append(time1-time0)\n",
    "iter_time=[0]\n",
    "for x in nums[1:]:\n",
    "    iter_time.append(sum(iter_rows[0:x]))\n",
    "#for i in range(len(times)-1):\n",
    "#    elapse_time = iter_time[i+1] - iter_time[i]\n",
    "#    elapsed_time.append(elapse_time)\n",
    "\n",
    "#time_elapsed=pd.DataFrame()\n",
    "#for x in range(len(times)):\n",
    "#    time_elapsed.at[x*5000 , 'iterrows'] = elapsed_time\n",
    "#time_elapsed.plot.line()\n",
    "plt.plot(nums, iter_time)\n",
    "plt.xlabel('BST Adds')\n",
    "plt.ylabel('Total Elapsed Milliseconds')\n",
    "plt.xticks(np.linspace(0, 20000, 5))\n",
    "plt.show()"
   ],
   "metadata": {
    "collapsed": false,
    "pycharm": {
     "name": "#%%\n"
    }
   }
  },
  {
   "cell_type": "code",
   "execution_count": 96,
   "outputs": [
    {
     "data": {
      "text/plain": "<Figure size 432x288 with 1 Axes>",
      "image/png": "[encoded data removed]"
     },
     "metadata": {
      "needs_background": "light"
     },
     "output_type": "display_data"
    }
   ],
   "source": [
    "# BST\n",
    "time2=time.time()\n",
    "number= len(tree[-1])\n",
    "time3=time.time()\n",
    "time_elapse_BST=time3-time2\n",
    "\n",
    "# For Loop\n",
    "time4=time.time()\n",
    "count = 0\n",
    "for x in bank_target2.list_values:\n",
    "    if x.interest_rate == \"-1.0\":\n",
    "        count += 1\n",
    "time5=time.time()\n",
    "time_elapse_loop = time5-time4\n",
    "x_axis=[\"Loop\", \"BST\"]\n",
    "y_axis=[time_elapse_loop, time_elapse_BST]\n",
    "plt.bar(x_axis, y_axis)\n",
    "plt.ylabel('Milliseconds')\n",
    "plt.show()"
   ],
   "metadata": {
    "collapsed": false,
    "pycharm": {
     "name": "#%%\n"
    }
   }
  },
  {
   "cell_type": "markdown",
   "source": [
    "##### How many applicants indicate multiple racial identities?"
   ],
   "metadata": {
    "collapsed": false,
    "pycharm": {
     "name": "#%% md\n"
    }
   }
  },
  {
   "cell_type": "code",
   "execution_count": 97,
   "outputs": [
    {
     "data": {
      "text/plain": "<Figure size 432x288 with 1 Axes>",
      "image/png": "[encoded data removed]"
     },
     "metadata": {
      "needs_background": "light"
     },
     "output_type": "display_data"
    }
   ],
   "source": [
    "list_race=[]\n",
    "for x in bank_target2:\n",
    "    for person in x.applicants:\n",
    "        race_info = list(person.race)\n",
    "        list_race.append(len(race_info))\n",
    "multi_races=[x for x in list(set(list_race)) if x>=2]\n",
    "frequency = dict()\n",
    "for i in list_race:\n",
    "    frequency[i] = frequency.get(i, 0) + 1\n",
    "races_frequency=dict()\n",
    "for num in multi_races:\n",
    "    races_frequency[num] = frequency[num]\n",
    "plt.bar(races_frequency.keys(), races_frequency.values())\n",
    "plt.ylabel('Multiple Racial Identities')\n",
    "plt.xticks(multi_races)\n",
    "plt.show()"
   ],
   "metadata": {
    "collapsed": false,
    "pycharm": {
     "name": "#%%\n"
    }
   }
  },
  {
   "cell_type": "markdown",
   "source": [
    "##### How many leaf nodes are in the tree?"
   ],
   "metadata": {
    "collapsed": false,
    "pycharm": {
     "name": "#%% md\n"
    }
   }
  },
  {
   "cell_type": "code",
   "execution_count": 98,
   "outputs": [
    {
     "data": {
      "text/plain": "9"
     },
     "execution_count": 98,
     "metadata": {},
     "output_type": "execute_result"
    }
   ],
   "source": [
    "def getleafcount(node):\n",
    "    if node ==None:\n",
    "        return 0\n",
    "    if node.left==None and node.right==None:\n",
    "        return 1\n",
    "    return getleafcount(node.left) +getleafcount(node.right)\n",
    "getleafcount(tree.root) # First Home Bank"
   ],
   "metadata": {
    "collapsed": false,
    "pycharm": {
     "name": "#%%\n"
    }
   }
  },
  {
   "cell_type": "markdown",
   "source": [
    "##### Find the second largest interest rate in the Bank BST"
   ],
   "metadata": {
    "collapsed": false,
    "pycharm": {
     "name": "#%% md\n"
    }
   }
  },
  {
   "cell_type": "code",
   "execution_count": 100,
   "outputs": [
    {
     "data": {
      "text/plain": "6.99"
     },
     "execution_count": 100,
     "metadata": {},
     "output_type": "execute_result"
    }
   ],
   "source": [
    "def second_largest_rates(node):\n",
    "    if node==None:\n",
    "        return []\n",
    "    if node.left==None and node.right == None:\n",
    "        return [node.key]\n",
    "    second_num =sorted([node.key] + second_largest_rates(node.left) + second_largest_rates(node.right))[-2:]\n",
    "    return second_num\n",
    "second_largest_rates(tree.root)[0]"
   ],
   "metadata": {
    "collapsed": false,
    "pycharm": {
     "name": "#%%\n"
    }
   }
  },
  {
   "cell_type": "code",
   "execution_count": null,
   "outputs": [],
   "source": [],
   "metadata": {
    "collapsed": false,
    "pycharm": {
     "name": "#%%\n"
    }
   }
  }
 ],
 "metadata": {
  "kernelspec": {
   "display_name": "Python 3",
   "language": "python",
   "name": "python3"
  },
  "language_info": {
   "codemirror_mode": {
    "name": "ipython",
    "version": 2
   },
   "file_extension": ".py",
   "mimetype": "text/x-python",
   "name": "python",
   "nbconvert_exporter": "python",
   "pygments_lexer": "ipython2",
   "version": "2.7.6"
  }
 },
 "nbformat": 4,
 "nbformat_minor": 0
}