{
 "cells": [
  {
   "cell_type": "markdown",
   "source": [
    "#### The US Census Bureau conducts the ACS (American Community Survey) yearly. The following analyzes data on household computer use from the years 2013 to 2018:\n",
    "\n",
    "#### 美国人口普查局每年进行 ACS（美国社区调查），分析2013-2018年家庭使用电脑数据如下：\n",
    "\n",
    "https://data.census.gov/cedsci/table?t=Computer%20and%20Internet%20Use&g=0100000US%240400000&tid=ACSDT1Y2015.B28001&hidePreview=true&tp=true&moe=true"
   ],
   "metadata": {
    "collapsed": false,
    "pycharm": {
     "name": "#%% md\n"
    }
   }
  },
  {
   "cell_type": "code",
   "execution_count": 28,
   "outputs": [],
   "source": [
    "import os\n",
    "import pandas as pd\n",
    "import numpy as np\n",
    "path='csv_files'\n",
    "dir_list=sorted(os.listdir(path))\n",
    "year=[int(x[7:11]) for x in dir_list]\n",
    "dir_path=[path+'/'+x for x in dir_list]"
   ],
   "metadata": {
    "collapsed": false,
    "pycharm": {
     "name": "#%%\n"
    }
   }
  },
  {
   "cell_type": "markdown",
   "source": [
    "##### 将文件编写成字典"
   ],
   "metadata": {
    "collapsed": false,
    "pycharm": {
     "name": "#%% md\n"
    }
   }
  },
  {
   "cell_type": "code",
   "execution_count": 128,
   "outputs": [],
   "source": [
    "content=[]\n",
    "for x in dir_path:\n",
    "    pd_reader=pd.read_csv(x)\n",
    "    pd_content=pd_reader\n",
    "    content.append(pd_content)\n",
    "years=dict()\n",
    "for i in range(len(year)):\n",
    "    years[int(year[i])] = content[i]"
   ],
   "metadata": {
    "collapsed": false,
    "pycharm": {
     "name": "#%%\n"
    }
   }
  },
  {
   "cell_type": "markdown",
   "source": [
    "##### 用名称查找具体值:loc, at(name); iat(number)"
   ],
   "metadata": {
    "collapsed": false,
    "pycharm": {
     "name": "#%% md\n"
    }
   }
  },
  {
   "cell_type": "code",
   "execution_count": 158,
   "outputs": [
    {
     "data": {
      "text/plain": "Estimate!!Total    2371960\nName: 50, dtype: object"
     },
     "execution_count": 158,
     "metadata": {},
     "output_type": "execute_result"
    }
   ],
   "source": [
    "#years[2018].columns=years[2018][1:2].values.tolist()\n",
    "columns=list(np.array(years[2018])[0:1])\n",
    "years[2018].columns=columns\n",
    "df_2018=years[2018][1:]\n",
    "area=years[2018][list(columns[0])[1]].values.tolist()\n",
    "df_2018.loc[area.index([\"Wisconsin\"]),[\"Estimate!!Total\"]]\n",
    "#df_2018.set_index(list(columns[0])[1])[1:2]"
   ],
   "metadata": {
    "collapsed": false,
    "pycharm": {
     "name": "#%%\n"
    }
   }
  },
  {
   "cell_type": "markdown",
   "source": [
    "##### for Wisconsin and adjacent states, what percent of households are estimated to be without a computer? (2018)\n",
    "##### 对威斯康星和周边州来说，无电脑家庭的百分比？"
   ],
   "metadata": {
    "collapsed": false,
    "pycharm": {
     "name": "#%% md\n"
    }
   }
  },
  {
   "cell_type": "code",
   "execution_count": 168,
   "outputs": [
    {
     "name": "stdout",
     "output_type": "stream",
     "text": [
      "{'Illinois': 8.524143737625552, 'Indiana': 9.463486214247707, 'Iowa': 9.468929459023103, 'Michigan': 8.936374942955922, 'Minnesota': 7.491847623005652, 'Wisconsin': 9.582497175331794}\n"
     ]
    },
    {
     "data": {
      "text/plain": "Text(0, 0.5, '% of households w/o Computers')"
     },
     "execution_count": 168,
     "metadata": {},
     "output_type": "execute_result"
    },
    {
     "data": {
      "text/plain": "<Figure size 432x288 with 1 Axes>",
      "image/png": "[encoded data removed]"
     },
     "metadata": {
      "needs_background": "light"
     },
     "output_type": "display_data"
    }
   ],
   "source": [
    "import matplotlib.pyplot as plt\n",
    "total_no_computer=years[2018]['Estimate!!Total!!No Computer'].values.tolist()\n",
    "estimate_total=years[2018]['Estimate!!Total'].values.tolist()\n",
    "states=['Illinois', 'Indiana', 'Iowa', 'Michigan', 'Minnesota', 'Wisconsin']\n",
    "state_index=[area.index([x]) for x in states]\n",
    "fraction_num=[int(total_no_computer[n][0])/int(estimate_total[n][0])*100 for n in state_index]\n",
    "no_computer=dict()\n",
    "for i in range(len(states)):\n",
    "    no_computer[states[i]]=fraction_num[i]\n",
    "print(no_computer)\n",
    "plt.bar(states, fraction_num)\n",
    "plt.xlabel(list(columns[0])[1])\n",
    "plt.ylabel('% of households w/o Computers')"
   ],
   "metadata": {
    "collapsed": false,
    "pycharm": {
     "name": "#%%\n"
    }
   }
  },
  {
   "cell_type": "code",
   "execution_count": 181,
   "outputs": [
    {
     "data": {
      "text/plain": "Text(0, 0.5, 'WI Household without Computers (thousands)')"
     },
     "execution_count": 181,
     "metadata": {},
     "output_type": "execute_result"
    },
    {
     "data": {
      "text/plain": "<Figure size 432x288 with 1 Axes>",
      "image/png": "[encoded data removed]"
     },
     "metadata": {
      "needs_background": "light"
     },
     "output_type": "display_data"
    }
   ],
   "source": [
    "def wi_no_computer(year_number):\n",
    "    columns=list(np.array(years[year_number])[0:1])\n",
    "    years[year_number].columns=columns\n",
    "    total_without_computer=years[year_number]['Estimate!!Total!!No Computer'].values.tolist()\n",
    "    wi_without_computer=total_without_computer[area.index([\"Wisconsin\"])][0]\n",
    "    return int(wi_without_computer)\n",
    "wi_no=dict()\n",
    "for i in year:\n",
    "    wi_no[int(i)]=wi_no_computer(int(i))/1000\n",
    "plt.plot(wi_no.keys(),wi_no.values())\n",
    "plt.ylim(ymin=0,ymax=400)\n",
    "plt.xlabel(\"Year\")\n",
    "plt.ylabel(\"WI Household without Computers (thousands)\")"
   ],
   "metadata": {
    "collapsed": false,
    "pycharm": {
     "name": "#%%\n"
    }
   }
  },
  {
   "cell_type": "code",
   "execution_count": 181,
   "outputs": [],
   "source": [],
   "metadata": {
    "collapsed": false,
    "pycharm": {
     "name": "#%%\n"
    }
   }
  },
  {
   "cell_type": "code",
   "execution_count": null,
   "outputs": [],
   "source": [],
   "metadata": {
    "collapsed": false,
    "pycharm": {
     "name": "#%%\n"
    }
   }
  }
 ],
 "metadata": {
  "kernelspec": {
   "display_name": "Python 3",
   "language": "python",
   "name": "python3"
  },
  "language_info": {
   "codemirror_mode": {
    "name": "ipython",
    "version": 2
   },
   "file_extension": ".py",
   "mimetype": "text/x-python",
   "name": "python",
   "nbconvert_exporter": "python",
   "pygments_lexer": "ipython2",
   "version": "2.7.6"
  }
 },
 "nbformat": 4,
 "nbformat_minor": 0
}