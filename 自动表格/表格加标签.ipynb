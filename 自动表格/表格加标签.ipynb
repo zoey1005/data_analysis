{
 "cells": [
  {
   "cell_type": "code",
   "execution_count": 39,
   "metadata": {
    "collapsed": true,
    "ExecuteTime": {
     "end_time": "2023-09-01T08:53:46.356661700Z",
     "start_time": "2023-09-01T08:53:46.334652200Z"
    }
   },
   "outputs": [],
   "source": [
    "import pandas as pd\n",
    "import os\n",
    "from collections import Counter\n",
    "import re"
   ]
  },
  {
   "cell_type": "code",
   "execution_count": 1,
   "outputs": [],
   "source": [
    "group_limit = 3000\n",
    "update_date = '2023-08-31'"
   ],
   "metadata": {
    "collapsed": false,
    "ExecuteTime": {
     "end_time": "2023-09-07T09:00:17.287315400Z",
     "start_time": "2023-09-07T09:00:17.272315300Z"
    }
   }
  },
  {
   "cell_type": "code",
   "execution_count": 71,
   "outputs": [],
   "source": [
    "file_list_one = os.listdir('事件属性')\n",
    "file_path=[]\n",
    "for x in file_list_one:\n",
    "    file_list =os.listdir('事件属性/'+x)\n",
    "    file_path_1 = ['事件属性/'+str(x)+'/'+a for a in file_list]\n",
    "    file_path+=file_path_1\n"
   ],
   "metadata": {
    "collapsed": false,
    "ExecuteTime": {
     "end_time": "2023-09-01T09:11:14.516188500Z",
     "start_time": "2023-09-01T09:11:14.496182700Z"
    }
   }
  },
  {
   "cell_type": "code",
   "execution_count": 86,
   "outputs": [],
   "source": [
    "# 加留存率\n",
    "# version = '1.3.0'\n",
    "# retent_list =os.listdir('留存率/'+version)\n",
    "# df_retent_test = pd.read_csv('留存率/'+version+'/'+retent_list[0])\n",
    "# df_retent_test = df_retent_test[(df_retent_test['初始事件发生时间']!='阶段值')&(df_retent_test['指标']!='留存率')]\n",
    "# levels = '['+re.findall(r\"\\d+\\.?\\d*\",retent_list[0])[0]+','+re.findall(r\"\\d+\\.?\\d*\",retent_list[0])[1]+')'\n",
    "# df_retent_test['版本'] = version\n",
    "# df_retent_test['curr_level']=levels\n",
    "# df_retent_test"
   ],
   "metadata": {
    "collapsed": false,
    "ExecuteTime": {
     "end_time": "2023-09-01T10:00:23.272881900Z",
     "start_time": "2023-09-01T10:00:23.253622100Z"
    }
   }
  },
  {
   "cell_type": "code",
   "execution_count": 84,
   "outputs": [],
   "source": [
    "# file_list =os.listdir('事件属性/'+version)\n",
    "# 将多天文件合并成同一文件\n",
    "df_test = pd.read_csv(file_path[0])\n",
    "full_file = pd.DataFrame(columns =list(df_test.columns))\n",
    "full_file_out = pd.DataFrame(columns =list(df_test.columns))\n",
    "for file in file_path:\n",
    "    df_import = pd.read_csv(file)\n",
    "    df_import['version_1']=file.split('/')[1]\n",
    "    full_file = pd.concat([full_file,df_import])\n",
    "full_file = full_file[full_file['curr_level'] !='(null)']"
   ],
   "metadata": {
    "collapsed": false,
    "ExecuteTime": {
     "end_time": "2023-09-01T09:16:05.792692300Z",
     "start_time": "2023-09-01T09:16:05.766669200Z"
    }
   }
  },
  {
   "cell_type": "code",
   "execution_count": 85,
   "outputs": [
    {
     "name": "stderr",
     "output_type": "stream",
     "text": [
      "C:\\Users\\ZY001\\AppData\\Local\\Temp\\ipykernel_11640\\1179801306.py:31: SettingWithCopyWarning: \n",
      "A value is trying to be set on a copy of a slice from a DataFrame.\n",
      "Try using .loc[row_indexer,col_indexer] = value instead\n",
      "\n",
      "See the caveats in the documentation: https://pandas.pydata.org/pandas-docs/stable/user_guide/indexing.html#returning-a-view-versus-a-copy\n",
      "  df.loc[:,'label'] =label\n",
      "C:\\Users\\ZY001\\AppData\\Local\\Temp\\ipykernel_11640\\1179801306.py:31: SettingWithCopyWarning: \n",
      "A value is trying to be set on a copy of a slice from a DataFrame.\n",
      "Try using .loc[row_indexer,col_indexer] = value instead\n",
      "\n",
      "See the caveats in the documentation: https://pandas.pydata.org/pandas-docs/stable/user_guide/indexing.html#returning-a-view-versus-a-copy\n",
      "  df.loc[:,'label'] =label\n",
      "C:\\Users\\ZY001\\AppData\\Local\\Temp\\ipykernel_11640\\1179801306.py:31: SettingWithCopyWarning: \n",
      "A value is trying to be set on a copy of a slice from a DataFrame.\n",
      "Try using .loc[row_indexer,col_indexer] = value instead\n",
      "\n",
      "See the caveats in the documentation: https://pandas.pydata.org/pandas-docs/stable/user_guide/indexing.html#returning-a-view-versus-a-copy\n",
      "  df.loc[:,'label'] =label\n",
      "C:\\Users\\ZY001\\AppData\\Local\\Temp\\ipykernel_11640\\1179801306.py:31: SettingWithCopyWarning: \n",
      "A value is trying to be set on a copy of a slice from a DataFrame.\n",
      "Try using .loc[row_indexer,col_indexer] = value instead\n",
      "\n",
      "See the caveats in the documentation: https://pandas.pydata.org/pandas-docs/stable/user_guide/indexing.html#returning-a-view-versus-a-copy\n",
      "  df.loc[:,'label'] =label\n",
      "C:\\Users\\ZY001\\AppData\\Local\\Temp\\ipykernel_11640\\1179801306.py:31: SettingWithCopyWarning: \n",
      "A value is trying to be set on a copy of a slice from a DataFrame.\n",
      "Try using .loc[row_indexer,col_indexer] = value instead\n",
      "\n",
      "See the caveats in the documentation: https://pandas.pydata.org/pandas-docs/stable/user_guide/indexing.html#returning-a-view-versus-a-copy\n",
      "  df.loc[:,'label'] =label\n",
      "C:\\Users\\ZY001\\AppData\\Local\\Temp\\ipykernel_11640\\1179801306.py:31: SettingWithCopyWarning: \n",
      "A value is trying to be set on a copy of a slice from a DataFrame.\n",
      "Try using .loc[row_indexer,col_indexer] = value instead\n",
      "\n",
      "See the caveats in the documentation: https://pandas.pydata.org/pandas-docs/stable/user_guide/indexing.html#returning-a-view-versus-a-copy\n",
      "  df.loc[:,'label'] =label\n",
      "C:\\Users\\ZY001\\AppData\\Local\\Temp\\ipykernel_11640\\1179801306.py:31: SettingWithCopyWarning: \n",
      "A value is trying to be set on a copy of a slice from a DataFrame.\n",
      "Try using .loc[row_indexer,col_indexer] = value instead\n",
      "\n",
      "See the caveats in the documentation: https://pandas.pydata.org/pandas-docs/stable/user_guide/indexing.html#returning-a-view-versus-a-copy\n",
      "  df.loc[:,'label'] =label\n",
      "C:\\Users\\ZY001\\AppData\\Local\\Temp\\ipykernel_11640\\1179801306.py:31: SettingWithCopyWarning: \n",
      "A value is trying to be set on a copy of a slice from a DataFrame.\n",
      "Try using .loc[row_indexer,col_indexer] = value instead\n",
      "\n",
      "See the caveats in the documentation: https://pandas.pydata.org/pandas-docs/stable/user_guide/indexing.html#returning-a-view-versus-a-copy\n",
      "  df.loc[:,'label'] =label\n",
      "C:\\Users\\ZY001\\AppData\\Local\\Temp\\ipykernel_11640\\1179801306.py:31: SettingWithCopyWarning: \n",
      "A value is trying to be set on a copy of a slice from a DataFrame.\n",
      "Try using .loc[row_indexer,col_indexer] = value instead\n",
      "\n",
      "See the caveats in the documentation: https://pandas.pydata.org/pandas-docs/stable/user_guide/indexing.html#returning-a-view-versus-a-copy\n",
      "  df.loc[:,'label'] =label\n",
      "C:\\Users\\ZY001\\AppData\\Local\\Temp\\ipykernel_11640\\1179801306.py:31: SettingWithCopyWarning: \n",
      "A value is trying to be set on a copy of a slice from a DataFrame.\n",
      "Try using .loc[row_indexer,col_indexer] = value instead\n",
      "\n",
      "See the caveats in the documentation: https://pandas.pydata.org/pandas-docs/stable/user_guide/indexing.html#returning-a-view-versus-a-copy\n",
      "  df.loc[:,'label'] =label\n",
      "C:\\Users\\ZY001\\AppData\\Local\\Temp\\ipykernel_11640\\1179801306.py:31: SettingWithCopyWarning: \n",
      "A value is trying to be set on a copy of a slice from a DataFrame.\n",
      "Try using .loc[row_indexer,col_indexer] = value instead\n",
      "\n",
      "See the caveats in the documentation: https://pandas.pydata.org/pandas-docs/stable/user_guide/indexing.html#returning-a-view-versus-a-copy\n",
      "  df.loc[:,'label'] =label\n",
      "C:\\Users\\ZY001\\AppData\\Local\\Temp\\ipykernel_11640\\1179801306.py:31: SettingWithCopyWarning: \n",
      "A value is trying to be set on a copy of a slice from a DataFrame.\n",
      "Try using .loc[row_indexer,col_indexer] = value instead\n",
      "\n",
      "See the caveats in the documentation: https://pandas.pydata.org/pandas-docs/stable/user_guide/indexing.html#returning-a-view-versus-a-copy\n",
      "  df.loc[:,'label'] =label\n",
      "C:\\Users\\ZY001\\AppData\\Local\\Temp\\ipykernel_11640\\1179801306.py:31: SettingWithCopyWarning: \n",
      "A value is trying to be set on a copy of a slice from a DataFrame.\n",
      "Try using .loc[row_indexer,col_indexer] = value instead\n",
      "\n",
      "See the caveats in the documentation: https://pandas.pydata.org/pandas-docs/stable/user_guide/indexing.html#returning-a-view-versus-a-copy\n",
      "  df.loc[:,'label'] =label\n",
      "C:\\Users\\ZY001\\AppData\\Local\\Temp\\ipykernel_11640\\1179801306.py:31: SettingWithCopyWarning: \n",
      "A value is trying to be set on a copy of a slice from a DataFrame.\n",
      "Try using .loc[row_indexer,col_indexer] = value instead\n",
      "\n",
      "See the caveats in the documentation: https://pandas.pydata.org/pandas-docs/stable/user_guide/indexing.html#returning-a-view-versus-a-copy\n",
      "  df.loc[:,'label'] =label\n",
      "C:\\Users\\ZY001\\AppData\\Local\\Temp\\ipykernel_11640\\1179801306.py:31: SettingWithCopyWarning: \n",
      "A value is trying to be set on a copy of a slice from a DataFrame.\n",
      "Try using .loc[row_indexer,col_indexer] = value instead\n",
      "\n",
      "See the caveats in the documentation: https://pandas.pydata.org/pandas-docs/stable/user_guide/indexing.html#returning-a-view-versus-a-copy\n",
      "  df.loc[:,'label'] =label\n",
      "C:\\Users\\ZY001\\AppData\\Local\\Temp\\ipykernel_11640\\1179801306.py:31: SettingWithCopyWarning: \n",
      "A value is trying to be set on a copy of a slice from a DataFrame.\n",
      "Try using .loc[row_indexer,col_indexer] = value instead\n",
      "\n",
      "See the caveats in the documentation: https://pandas.pydata.org/pandas-docs/stable/user_guide/indexing.html#returning-a-view-versus-a-copy\n",
      "  df.loc[:,'label'] =label\n",
      "C:\\Users\\ZY001\\AppData\\Local\\Temp\\ipykernel_11640\\1179801306.py:31: SettingWithCopyWarning: \n",
      "A value is trying to be set on a copy of a slice from a DataFrame.\n",
      "Try using .loc[row_indexer,col_indexer] = value instead\n",
      "\n",
      "See the caveats in the documentation: https://pandas.pydata.org/pandas-docs/stable/user_guide/indexing.html#returning-a-view-versus-a-copy\n",
      "  df.loc[:,'label'] =label\n",
      "C:\\Users\\ZY001\\AppData\\Local\\Temp\\ipykernel_11640\\1179801306.py:31: SettingWithCopyWarning: \n",
      "A value is trying to be set on a copy of a slice from a DataFrame.\n",
      "Try using .loc[row_indexer,col_indexer] = value instead\n",
      "\n",
      "See the caveats in the documentation: https://pandas.pydata.org/pandas-docs/stable/user_guide/indexing.html#returning-a-view-versus-a-copy\n",
      "  df.loc[:,'label'] =label\n",
      "C:\\Users\\ZY001\\AppData\\Local\\Temp\\ipykernel_11640\\1179801306.py:31: SettingWithCopyWarning: \n",
      "A value is trying to be set on a copy of a slice from a DataFrame.\n",
      "Try using .loc[row_indexer,col_indexer] = value instead\n",
      "\n",
      "See the caveats in the documentation: https://pandas.pydata.org/pandas-docs/stable/user_guide/indexing.html#returning-a-view-versus-a-copy\n",
      "  df.loc[:,'label'] =label\n",
      "C:\\Users\\ZY001\\AppData\\Local\\Temp\\ipykernel_11640\\1179801306.py:31: SettingWithCopyWarning: \n",
      "A value is trying to be set on a copy of a slice from a DataFrame.\n",
      "Try using .loc[row_indexer,col_indexer] = value instead\n",
      "\n",
      "See the caveats in the documentation: https://pandas.pydata.org/pandas-docs/stable/user_guide/indexing.html#returning-a-view-versus-a-copy\n",
      "  df.loc[:,'label'] =label\n",
      "C:\\Users\\ZY001\\AppData\\Local\\Temp\\ipykernel_11640\\1179801306.py:31: SettingWithCopyWarning: \n",
      "A value is trying to be set on a copy of a slice from a DataFrame.\n",
      "Try using .loc[row_indexer,col_indexer] = value instead\n",
      "\n",
      "See the caveats in the documentation: https://pandas.pydata.org/pandas-docs/stable/user_guide/indexing.html#returning-a-view-versus-a-copy\n",
      "  df.loc[:,'label'] =label\n",
      "C:\\Users\\ZY001\\AppData\\Local\\Temp\\ipykernel_11640\\1179801306.py:31: SettingWithCopyWarning: \n",
      "A value is trying to be set on a copy of a slice from a DataFrame.\n",
      "Try using .loc[row_indexer,col_indexer] = value instead\n",
      "\n",
      "See the caveats in the documentation: https://pandas.pydata.org/pandas-docs/stable/user_guide/indexing.html#returning-a-view-versus-a-copy\n",
      "  df.loc[:,'label'] =label\n",
      "C:\\Users\\ZY001\\AppData\\Local\\Temp\\ipykernel_11640\\1179801306.py:31: SettingWithCopyWarning: \n",
      "A value is trying to be set on a copy of a slice from a DataFrame.\n",
      "Try using .loc[row_indexer,col_indexer] = value instead\n",
      "\n",
      "See the caveats in the documentation: https://pandas.pydata.org/pandas-docs/stable/user_guide/indexing.html#returning-a-view-versus-a-copy\n",
      "  df.loc[:,'label'] =label\n",
      "C:\\Users\\ZY001\\AppData\\Local\\Temp\\ipykernel_11640\\1179801306.py:31: SettingWithCopyWarning: \n",
      "A value is trying to be set on a copy of a slice from a DataFrame.\n",
      "Try using .loc[row_indexer,col_indexer] = value instead\n",
      "\n",
      "See the caveats in the documentation: https://pandas.pydata.org/pandas-docs/stable/user_guide/indexing.html#returning-a-view-versus-a-copy\n",
      "  df.loc[:,'label'] =label\n",
      "C:\\Users\\ZY001\\AppData\\Local\\Temp\\ipykernel_11640\\1179801306.py:31: SettingWithCopyWarning: \n",
      "A value is trying to be set on a copy of a slice from a DataFrame.\n",
      "Try using .loc[row_indexer,col_indexer] = value instead\n",
      "\n",
      "See the caveats in the documentation: https://pandas.pydata.org/pandas-docs/stable/user_guide/indexing.html#returning-a-view-versus-a-copy\n",
      "  df.loc[:,'label'] =label\n",
      "C:\\Users\\ZY001\\AppData\\Local\\Temp\\ipykernel_11640\\1179801306.py:31: SettingWithCopyWarning: \n",
      "A value is trying to be set on a copy of a slice from a DataFrame.\n",
      "Try using .loc[row_indexer,col_indexer] = value instead\n",
      "\n",
      "See the caveats in the documentation: https://pandas.pydata.org/pandas-docs/stable/user_guide/indexing.html#returning-a-view-versus-a-copy\n",
      "  df.loc[:,'label'] =label\n",
      "C:\\Users\\ZY001\\AppData\\Local\\Temp\\ipykernel_11640\\1179801306.py:31: SettingWithCopyWarning: \n",
      "A value is trying to be set on a copy of a slice from a DataFrame.\n",
      "Try using .loc[row_indexer,col_indexer] = value instead\n",
      "\n",
      "See the caveats in the documentation: https://pandas.pydata.org/pandas-docs/stable/user_guide/indexing.html#returning-a-view-versus-a-copy\n",
      "  df.loc[:,'label'] =label\n",
      "C:\\Users\\ZY001\\AppData\\Local\\Temp\\ipykernel_11640\\1179801306.py:31: SettingWithCopyWarning: \n",
      "A value is trying to be set on a copy of a slice from a DataFrame.\n",
      "Try using .loc[row_indexer,col_indexer] = value instead\n",
      "\n",
      "See the caveats in the documentation: https://pandas.pydata.org/pandas-docs/stable/user_guide/indexing.html#returning-a-view-versus-a-copy\n",
      "  df.loc[:,'label'] =label\n",
      "C:\\Users\\ZY001\\AppData\\Local\\Temp\\ipykernel_11640\\1179801306.py:31: SettingWithCopyWarning: \n",
      "A value is trying to be set on a copy of a slice from a DataFrame.\n",
      "Try using .loc[row_indexer,col_indexer] = value instead\n",
      "\n",
      "See the caveats in the documentation: https://pandas.pydata.org/pandas-docs/stable/user_guide/indexing.html#returning-a-view-versus-a-copy\n",
      "  df.loc[:,'label'] =label\n"
     ]
    },
    {
     "data": {
      "text/plain": "           date curr_level  duration stage_start stage_win ads_rewards   \n0    2023-07-31   [300,+∞)  23979.64         147        28         125  \\\n1    2023-08-01   [300,+∞)  13181.45          83        11          70   \n2    2023-08-02   [300,+∞)   16425.5          78         6          70   \n3    2023-08-03   [300,+∞)   5257.16          38         1          25   \n4    2023-08-04   [300,+∞)  10800.65          67         7          65   \n..          ...        ...       ...         ...       ...         ...   \n372  2023-08-27  [300,350)   2711.99          13         5          22   \n373  2023-08-28  [300,350)   3870.72          19         8          28   \n374  2023-08-29  [300,350)       0.0           0         0           0   \n375  2023-08-30  [300,350)       0.0           0         0           0   \n376  2023-08-31  [300,350)       0.0           0         0           0   \n\n    add_step tool_use all_users version    labels  \n0          0       25         9   1.1.5   9999--0  \n1          0        9         5   1.1.5   9999--0  \n2          0       22         5   1.1.5   9999--0  \n3          0        8         3   1.1.5   9999--0  \n4          0       13         4   1.1.5   9999--0  \n..       ...      ...       ...     ...       ...  \n372        0        0         1   1.2.0  9999--13  \n373        0        4         3   1.2.0  9999--13  \n374        0        0         0   1.2.0  9999--13  \n375        0        0         0   1.2.0  9999--13  \n376        0        0         0   1.2.0  9999--13  \n\n[837 rows x 11 columns]",
      "text/html": "<div>\n<style scoped>\n    .dataframe tbody tr th:only-of-type {\n        vertical-align: middle;\n    }\n\n    .dataframe tbody tr th {\n        vertical-align: top;\n    }\n\n    .dataframe thead th {\n        text-align: right;\n    }\n</style>\n<table border=\"1\" class=\"dataframe\">\n  <thead>\n    <tr style=\"text-align: right;\">\n      <th></th>\n      <th>date</th>\n      <th>curr_level</th>\n      <th>duration</th>\n      <th>stage_start</th>\n      <th>stage_win</th>\n      <th>ads_rewards</th>\n      <th>add_step</th>\n      <th>tool_use</th>\n      <th>all_users</th>\n      <th>version</th>\n      <th>labels</th>\n    </tr>\n  </thead>\n  <tbody>\n    <tr>\n      <th>0</th>\n      <td>2023-07-31</td>\n      <td>[300,+∞)</td>\n      <td>23979.64</td>\n      <td>147</td>\n      <td>28</td>\n      <td>125</td>\n      <td>0</td>\n      <td>25</td>\n      <td>9</td>\n      <td>1.1.5</td>\n      <td>9999--0</td>\n    </tr>\n    <tr>\n      <th>1</th>\n      <td>2023-08-01</td>\n      <td>[300,+∞)</td>\n      <td>13181.45</td>\n      <td>83</td>\n      <td>11</td>\n      <td>70</td>\n      <td>0</td>\n      <td>9</td>\n      <td>5</td>\n      <td>1.1.5</td>\n      <td>9999--0</td>\n    </tr>\n    <tr>\n      <th>2</th>\n      <td>2023-08-02</td>\n      <td>[300,+∞)</td>\n      <td>16425.5</td>\n      <td>78</td>\n      <td>6</td>\n      <td>70</td>\n      <td>0</td>\n      <td>22</td>\n      <td>5</td>\n      <td>1.1.5</td>\n      <td>9999--0</td>\n    </tr>\n    <tr>\n      <th>3</th>\n      <td>2023-08-03</td>\n      <td>[300,+∞)</td>\n      <td>5257.16</td>\n      <td>38</td>\n      <td>1</td>\n      <td>25</td>\n      <td>0</td>\n      <td>8</td>\n      <td>3</td>\n      <td>1.1.5</td>\n      <td>9999--0</td>\n    </tr>\n    <tr>\n      <th>4</th>\n      <td>2023-08-04</td>\n      <td>[300,+∞)</td>\n      <td>10800.65</td>\n      <td>67</td>\n      <td>7</td>\n      <td>65</td>\n      <td>0</td>\n      <td>13</td>\n      <td>4</td>\n      <td>1.1.5</td>\n      <td>9999--0</td>\n    </tr>\n    <tr>\n      <th>...</th>\n      <td>...</td>\n      <td>...</td>\n      <td>...</td>\n      <td>...</td>\n      <td>...</td>\n      <td>...</td>\n      <td>...</td>\n      <td>...</td>\n      <td>...</td>\n      <td>...</td>\n      <td>...</td>\n    </tr>\n    <tr>\n      <th>372</th>\n      <td>2023-08-27</td>\n      <td>[300,350)</td>\n      <td>2711.99</td>\n      <td>13</td>\n      <td>5</td>\n      <td>22</td>\n      <td>0</td>\n      <td>0</td>\n      <td>1</td>\n      <td>1.2.0</td>\n      <td>9999--13</td>\n    </tr>\n    <tr>\n      <th>373</th>\n      <td>2023-08-28</td>\n      <td>[300,350)</td>\n      <td>3870.72</td>\n      <td>19</td>\n      <td>8</td>\n      <td>28</td>\n      <td>0</td>\n      <td>4</td>\n      <td>3</td>\n      <td>1.2.0</td>\n      <td>9999--13</td>\n    </tr>\n    <tr>\n      <th>374</th>\n      <td>2023-08-29</td>\n      <td>[300,350)</td>\n      <td>0.0</td>\n      <td>0</td>\n      <td>0</td>\n      <td>0</td>\n      <td>0</td>\n      <td>0</td>\n      <td>0</td>\n      <td>1.2.0</td>\n      <td>9999--13</td>\n    </tr>\n    <tr>\n      <th>375</th>\n      <td>2023-08-30</td>\n      <td>[300,350)</td>\n      <td>0.0</td>\n      <td>0</td>\n      <td>0</td>\n      <td>0</td>\n      <td>0</td>\n      <td>0</td>\n      <td>0</td>\n      <td>1.2.0</td>\n      <td>9999--13</td>\n    </tr>\n    <tr>\n      <th>376</th>\n      <td>2023-08-31</td>\n      <td>[300,350)</td>\n      <td>0.0</td>\n      <td>0</td>\n      <td>0</td>\n      <td>0</td>\n      <td>0</td>\n      <td>0</td>\n      <td>0</td>\n      <td>1.2.0</td>\n      <td>9999--13</td>\n    </tr>\n  </tbody>\n</table>\n<p>837 rows × 11 columns</p>\n</div>"
     },
     "execution_count": 85,
     "metadata": {},
     "output_type": "execute_result"
    }
   ],
   "source": [
    "# 将文件按关卡段拆分\n",
    "full_label = []\n",
    "curr_level =list(Counter(list(full_file['curr_level'])))\n",
    "for ii in range(len(curr_level)):\n",
    "    # 按关卡段划分数据\n",
    "    level_file = full_file[full_file['curr_level'] ==curr_level[ii]]\n",
    "    for p in range(len(file_list_one)):\n",
    "        version_level_file = level_file[level_file['version_1']==file_list_one[p]]\n",
    "        df = version_level_file\n",
    "        start_times = list(df['stage_start.总次数'].astype(int))\n",
    "        index=[]\n",
    "        count= 0\n",
    "        for i in range(len(start_times)):\n",
    "            count += start_times[i]\n",
    "            if count>=group_limit:\n",
    "                index.append(i)\n",
    "                count =0\n",
    "                i = i+1\n",
    "            else:\n",
    "                i = i+1\n",
    "        label = []\n",
    "        if len(index)!=0:\n",
    "            times_index_2 =[x+1 for x in index]\n",
    "            label+=['0--'+str(ii)]*times_index_2[0]\n",
    "            for i in range(len(times_index_2)):\n",
    "                label+=[str(i)+'--'+str(ii)]*(times_index_2[i]-times_index_2[i-1])\n",
    "            label +=['9999--'+str(ii)]*(len(df)-times_index_2[-1])\n",
    "\n",
    "        else:\n",
    "            label +=['9999--'+str(ii)]*len(df)\n",
    "        df.loc[:,'label'] =label\n",
    "        full_file_out = pd.concat([full_file_out,df])\n",
    "full_file_out.columns=['date','curr_level','duration','stage_start','stage_win','ads_rewards','add_step','tool_use','all_users','version','labels']\n",
    "    #     label=[]\n",
    "    #     label+=['0--'+str(ii)]*times_index_2[0]\n",
    "    #     for i in range(len(times_index_2)):\n",
    "    #         label+=[str(i)+'--'+str(ii)]*(times_index_2[i]-times_index_2[i-1])\n",
    "    #     label +=['9999--'+str(ii)]*(len(df)-times_index_2[-1])\n",
    "    #     df['label'] =label\n",
    "    # full_file_out = pd.concat([full_file_out,df])\n"
   ],
   "metadata": {
    "collapsed": false,
    "ExecuteTime": {
     "end_time": "2023-09-01T09:16:06.196137500Z",
     "start_time": "2023-09-01T09:16:06.092123300Z"
    }
   }
  },
  {
   "cell_type": "code",
   "execution_count": 82,
   "outputs": [],
   "source": [
    "full_file_out.to_csv('带标签表格.csv')"
   ],
   "metadata": {
    "collapsed": false,
    "ExecuteTime": {
     "end_time": "2023-09-01T09:13:25.062827700Z",
     "start_time": "2023-09-01T09:13:25.028822500Z"
    }
   }
  },
  {
   "cell_type": "code",
   "execution_count": 77,
   "outputs": [],
   "source": [
    "# ad_per_person = round(full_file_out['ads_reward.总次数'].astype(int)/full_file_out['任意事件.触发用户数'].astype(int),2)\n",
    "# time_per_person = round(full_file_out['人均时长'].astype(float)/full_file_out['任意事件.触发用户数'].astype(int),2)\n",
    "# add_step_per_person = round(full_file_out['加步'].astype(int)/full_file_out['任意事件.触发用户数'].astype(int),2)\n",
    "# tool_per_person = round(full_file_out['道具使用'].astype(int)/full_file_out['任意事件.触发用户数'].astype(int),2)\n",
    "# full_file_out['ad_per_person'] = ad_per_person\n",
    "# full_file_out['time_per_person'] = time_per_person\n",
    "# full_file_out['add_step_per_person'] = add_step_per_person\n",
    "# full_file_out['tool_per_person'] = tool_per_person\n",
    "# full_file_out['version'] = [version]*len(full_file_out)\n",
    "# full_file_out['labels'] = list(full_file_out['label'])\n",
    "# full_file_out = full_file_out.drop(['label'], axis=1)\n",
    "# full_file_out.columns=['date','curr_level','duration','stage_start','stage_win','ads_rewards','add_step','tool_use','all_users','ad_per_person','duration_per_person','add_step_per_person','tool_per_person','version','labels']\n",
    "# full_file_out"
   ],
   "metadata": {
    "collapsed": false,
    "ExecuteTime": {
     "end_time": "2023-09-01T09:11:16.386763500Z",
     "start_time": "2023-09-01T09:11:16.366752400Z"
    }
   }
  },
  {
   "cell_type": "code",
   "execution_count": 38,
   "outputs": [],
   "source": [
    "#full_file_out.to_csv('带标签表格.csv')"
   ],
   "metadata": {
    "collapsed": false,
    "ExecuteTime": {
     "end_time": "2023-09-01T08:48:26.507361800Z",
     "start_time": "2023-09-01T08:48:26.494360800Z"
    }
   }
  },
  {
   "cell_type": "code",
   "execution_count": null,
   "outputs": [],
   "source": [],
   "metadata": {
    "collapsed": false
   }
  }
 ],
 "metadata": {
  "kernelspec": {
   "display_name": "Python 3",
   "language": "python",
   "name": "python3"
  },
  "language_info": {
   "codemirror_mode": {
    "name": "ipython",
    "version": 2
   },
   "file_extension": ".py",
   "mimetype": "text/x-python",
   "name": "python",
   "nbconvert_exporter": "python",
   "pygments_lexer": "ipython2",
   "version": "2.7.6"
  }
 },
 "nbformat": 4,
 "nbformat_minor": 0
}
